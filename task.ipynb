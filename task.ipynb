{
 "cells": [
  {
   "cell_type": "code",
   "execution_count": 3,
   "metadata": {},
   "outputs": [],
   "source": [
    "import os\n",
    "import numpy as np\n",
    "import matplotlib.pyplot as plt\n",
    "import pandas as pd\n",
    "import rasterio"
   ]
  },
  {
   "cell_type": "code",
   "execution_count": 4,
   "metadata": {},
   "outputs": [],
   "source": [
    "LABELS_DIR = \"/fab3/btech/2022/snehanshu.pal22b/SolarPanel/labels/labels_native\"\n",
    "IMAGES_DIR = \"/fab3/btech/2022/snehanshu.pal22b/SolarPanel/image_chips_native-20250212T103727Z-001/image_chips_native\"\n",
    "\n",
    "\n",
    "DEFAULT_METERS_PER_PIXEL = 0.31  \n",
    "\n",
    "def get_meters_per_pixel(tiff_path):\n",
    "    \n",
    "    try:\n",
    "        with rasterio.open(tiff_path) as src:\n",
    "            transform = src.transform\n",
    "            meters_per_pixel = abs(transform.a)  \n",
    "            return meters_per_pixel\n",
    "    except Exception as e:\n",
    "        print(f\"Could not read {tiff_path}: {e}\")\n",
    "        return DEFAULT_METERS_PER_PIXEL  \n",
    "\n",
    "def match_labels_to_images():\n",
    "   \n",
    "    \n",
    "    label_files = sorted([f for f in os.listdir(LABELS_DIR) if f.endswith(\".txt\")])\n",
    "    image_files = sorted([f for f in os.listdir(IMAGES_DIR) if f.endswith(\".tif\")])\n",
    "    \n",
    "    \n",
    "    label_map = {os.path.splitext(f)[0]: f for f in label_files}\n",
    "    image_map = {os.path.splitext(f)[0]: f for f in image_files}\n",
    "\n",
    "    \n",
    "    matched_pairs = []\n",
    "    for base_name in label_map:\n",
    "        if base_name in image_map:  \n",
    "            matched_pairs.append((label_map[base_name], image_map[base_name]))\n",
    "            # print(f\"Matched: {base_name}\")\n",
    "\n",
    "    return matched_pairs\n"
   ]
  },
  {
   "cell_type": "code",
   "execution_count": 5,
   "metadata": {},
   "outputs": [],
   "source": [
    "def analyze_label_distribution(matched_pairs):\n",
    "    \n",
    "    label_counts = []\n",
    "    \n",
    "    \n",
    "    for label_file, _ in matched_pairs:\n",
    "        with open(os.path.join(LABELS_DIR, label_file), \"r\") as file:\n",
    "            num_labels = len(file.readlines())\n",
    "            label_counts.append(num_labels)\n",
    "    \n",
    "    \n",
    "    min_labels = min(label_counts)\n",
    "    max_labels = max(label_counts)\n",
    "    \n",
    "    \n",
    "    distribution = {}\n",
    "    for count in range(min_labels, max_labels + 1):\n",
    "        num_images = label_counts.count(count)\n",
    "        if num_images > 0:  \n",
    "            distribution[count] = num_images\n",
    "    \n",
    "    \n",
    "    df = pd.DataFrame.from_dict(distribution, orient='index', columns=['Number of Images'])\n",
    "    df.index.name = 'Number of Labels'\n",
    "    \n",
    "    return df\n",
    "\n",
    "def count_solar_panels(matched_pairs):\n",
    "    \"\"\"Counts total instances of solar panels and label distribution per image.\"\"\"\n",
    "    total_instances = 0\n",
    "    label_counts = []\n",
    "\n",
    "    for label_file, _ in matched_pairs:\n",
    "        with open(os.path.join(LABELS_DIR, label_file), \"r\") as file:\n",
    "            lines = file.readlines()\n",
    "            count = sum(1 for line in lines if line.split()[0] == '0')  # Count only instances with class label 0\n",
    "            total_instances += count\n",
    "            label_counts.append(count)\n",
    "\n",
    "    return total_instances, label_counts\n"
   ]
  },
  {
   "cell_type": "code",
   "execution_count": 6,
   "metadata": {},
   "outputs": [],
   "source": [
    "matched_pairs = match_labels_to_images()\n",
    "\n",
    "total_instances, label_counts = count_solar_panels(matched_pairs)\n",
    "\n",
    "label_distribution = analyze_label_distribution(matched_pairs)"
   ]
  },
  {
   "cell_type": "code",
   "execution_count": 7,
   "metadata": {},
   "outputs": [],
   "source": [
    "with open('Q1_results.txt', 'w') as f:\n",
    "    \n",
    "    f.write(f\"Total number of solar panel instances: {total_instances}\\n\\n\")\n",
    "    \n",
    "    \n",
    "    f.write(\"Distribution of labels per image:\\n\")\n",
    "    f.write(\"--------------------------------\\n\")\n",
    "    f.write(label_distribution.to_string())"
   ]
  },
  {
   "cell_type": "code",
   "execution_count": 8,
   "metadata": {},
   "outputs": [],
   "source": [
    "def compute_area_statistics(matched_pairs):\n",
    "    \"\"\"Computes area statistics for solar panels based on YOLO labels and images.\n",
    "    Only considers objects with class label 0.\"\"\"\n",
    "    areas = []\n",
    "\n",
    "    for label_file, image_file in matched_pairs:\n",
    "        image_path = os.path.join(IMAGES_DIR, image_file)\n",
    "        meters_per_pixel = get_meters_per_pixel(image_path)\n",
    "\n",
    "        with open(os.path.join(LABELS_DIR, label_file), \"r\") as file:\n",
    "            for line in file:\n",
    "                parts = line.strip().split()\n",
    "                class_label = int(parts[0])  # Extract class label\n",
    "                \n",
    "                # Only process objects with class label 0\n",
    "                if class_label == 0:\n",
    "                    _, _, _, width, height = map(float, parts)  # Extract YOLO bbox values\n",
    "                    \n",
    "                    # Convert from normalized YOLO format to meters\n",
    "                    width_m = width * meters_per_pixel\n",
    "                    height_m = height * meters_per_pixel\n",
    "                    \n",
    "                    area = width_m * height_m  # Compute area in square meters\n",
    "                    areas.append(area)\n",
    "\n",
    "    # Compute statistics\n",
    "    mean_area = np.mean(areas) if areas else 0\n",
    "    std_area = np.std(areas) if areas else 0\n",
    "\n",
    "    return areas, mean_area, std_area\n",
    "\n",
    "def plot_area_histogram(areas):\n",
    "    \"\"\"Plots the histogram of computed areas.\"\"\"\n",
    "    plt.figure(figsize=(8, 5))\n",
    "    plt.hist(areas, bins=30, color='skyblue', edgecolor='black', alpha=0.7)\n",
    "    plt.xlabel(\"Area (sq. meters)\")\n",
    "    plt.ylabel(\"Frequency\")\n",
    "    plt.title(\"Histogram of Solar Panel Areas\")\n",
    "    plt.grid(axis=\"y\", linestyle=\"--\", alpha=0.7)\n",
    "    plt.show()\n",
    "\n",
    "    "
   ]
  },
  {
   "cell_type": "code",
   "execution_count": 9,
   "metadata": {},
   "outputs": [
    {
     "name": "stderr",
     "output_type": "stream",
     "text": [
      "/fab3/btech/2022/snehanshu.pal22b/anaconda3/envs/iitgn/lib/python3.8/site-packages/rasterio/__init__.py:304: NotGeoreferencedWarning: Dataset has no geotransform, gcps, or rpcs. The identity matrix will be returned.\n",
      "  dataset = DatasetReader(path, driver=driver, sharing=sharing, **kwargs)\n"
     ]
    },
    {
     "name": "stdout",
     "output_type": "stream",
     "text": [
      "\n",
      "Mean Area: 0.01 sq. meters\n",
      "Standard Deviation: 0.04 sq. meters\n"
     ]
    },
    {
     "data": {
      "image/png": "[encoded data removed]",
      "text/plain": [
       "<Figure size 800x500 with 1 Axes>"
      ]
     },
     "metadata": {},
     "output_type": "display_data"
    }
   ],
   "source": [
    "areas, mean_area, std_area = compute_area_statistics(matched_pairs)\n",
    "print(f\"\\nMean Area: {mean_area:.2f} sq. meters\")\n",
    "print(f\"Standard Deviation: {std_area:.2f} sq. meters\")\n",
    "\n",
    "# Plot histogram\n",
    "plot_area_histogram(areas)"
   ]
  },
  {
   "cell_type": "markdown",
   "metadata": {},
   "source": [
    "# Observations from the Histogram of Solar Panel Areas\n",
    "\n",
    "- **Highly Skewed Distribution**: The histogram is heavily right-skewed, indicating that most solar panel areas are very small.  \n",
    "- **Majority of Areas are Small**: A large number of data points fall within the smallest bin, suggesting that most panels in the dataset have very small surface areas.  \n",
    "- **Few Large Panels**: There are very few instances of larger panel areas (above 0.1 square meters), as seen in the long right tail of the distribution.  \n",
    "- **Possible Data Issues**: The extreme concentration near zero might indicate:\n",
    "  - Measurement precision issues.\n",
    "  - The dataset including many small or partial solar panel installations.\n",
    "  - Potential data entry inconsistencies."
   ]
  },
  {
   "cell_type": "code",
   "execution_count": 22,
   "metadata": {},
   "outputs": [],
   "source": [
    "from shapely.geometry import box\n",
    "from sklearn.metrics import auc\n",
    "import random"
   ]
  },
  {
   "cell_type": "code",
   "execution_count": 27,
   "metadata": {},
   "outputs": [],
   "source": [
    "def compute_iou(box1, box2):\n",
    "    \"\"\"Calculate the Intersection over Union (IoU) of two bounding boxes.\"\"\"\n",
    "    polygon1 = box(*box1)\n",
    "    polygon2 = box(*box2)\n",
    "    \n",
    "    if not polygon1.intersects(polygon2):\n",
    "        return 0.0\n",
    "    \n",
    "    intersection_area = polygon1.intersection(polygon2).area\n",
    "    union_area = polygon1.union(polygon2).area\n",
    "    \n",
    "    return intersection_area / union_area\n",
    "\n",
    "def pascal_voc_11_point_ap(recalls, precisions):\n",
    "    \"\"\"Compute AP using Pascal VOC 11 point interpolation method.\"\"\"\n",
    "    ap = 0.0\n",
    "    for t in np.linspace(0, 1, 11):\n",
    "        p = np.max(precisions[recalls >= t]) if np.sum(recalls >= t) != 0 else 0\n",
    "        ap += p / 11.0\n",
    "    return ap\n",
    "\n",
    "def coco_101_point_ap(recalls, precisions):\n",
    "    \"\"\"Compute AP using COCO 101-point interpolation method.\"\"\"\n",
    "    ap = 0.0\n",
    "    for t in np.linspace(0, 1, 101):\n",
    "        p = np.max(precisions[recalls >= t]) if np.sum(recalls >= t) != 0 else 0\n",
    "        ap += p / 101.0\n",
    "    return ap\n",
    "\n",
    "def auc_pr_ap(recalls, precisions):\n",
    "    \"\"\"Compute AP using Area under Precision-Recall Curve method.\"\"\"\n",
    "    return auc(recalls, precisions)\n",
    "\n",
    "def compute_precision_recall(gt_boxes, pred_boxes, iou_threshold=0.5):\n",
    "    \"\"\"Compute precision and recall for given ground truth and predicted boxes.\"\"\"\n",
    "    tp = 0\n",
    "    fp = 0\n",
    "    fn = len(gt_boxes)\n",
    "    \n",
    "    for pred_box in pred_boxes:\n",
    "        ious = [compute_iou(pred_box, gt_box) for gt_box in gt_boxes]\n",
    "        if max(ious) >= iou_threshold:\n",
    "            tp += 1\n",
    "            fn -= 1\n",
    "        else:\n",
    "            fp += 1\n",
    "    \n",
    "    precision = tp / (tp + fp) if (tp + fp) > 0 else 0\n",
    "    recall = tp / (tp + fn) if (tp + fn) > 0 else 0\n",
    "    \n",
    "    return precision, recall\n",
    "\n",
    "\n"
   ]
  },
  {
   "cell_type": "code",
   "execution_count": 28,
   "metadata": {},
   "outputs": [],
   "source": [
    "def generate_random_boxes(image_size, box_size, num_boxes):\n",
    "    \"\"\"Generate random bounding boxes within the given image size.\"\"\"\n",
    "    boxes = []\n",
    "    for _ in range(num_boxes):\n",
    "        x_min = random.randint(0, image_size - box_size)\n",
    "        y_min = random.randint(0, image_size - box_size)\n",
    "        x_max = x_min + box_size\n",
    "        y_max = y_min + box_size\n",
    "        boxes.append((x_min, y_min, x_max, y_max))\n",
    "    return boxes\n"
   ]
  },
  {
   "cell_type": "code",
   "execution_count": 29,
   "metadata": {},
   "outputs": [
    {
     "name": "stdout",
     "output_type": "stream",
     "text": [
      "Pascal VOC 11-point AP: 0.0818\n",
      "COCO 101-point AP: 0.0921\n",
      "AUC-PR AP: 0.0450\n"
     ]
    }
   ],
   "source": [
    "image_size = 100\n",
    "box_size = 20\n",
    "num_images = 10\n",
    "num_boxes = 10\n",
    "iou_threshold = 0.5\n",
    "\n",
    "precisions = []\n",
    "recalls = []\n",
    "\n",
    "for _ in range(num_images):\n",
    "    gt_boxes = generate_random_boxes(image_size, box_size, num_boxes)\n",
    "    pred_boxes = generate_random_boxes(image_size, box_size, num_boxes)\n",
    "    \n",
    "    precision, recall = compute_precision_recall(gt_boxes, pred_boxes, iou_threshold)\n",
    "    precisions.append(precision)\n",
    "    recalls.append(recall)\n",
    "\n",
    "precisions = np.array(precisions)\n",
    "recalls = np.array(recalls)\n",
    "\n",
    "# Sort by recall\n",
    "sorted_indices = np.argsort(recalls)\n",
    "recalls = recalls[sorted_indices]\n",
    "precisions = precisions[sorted_indices]\n",
    "\n",
    "ap_voc = pascal_voc_11_point_ap(recalls, precisions)\n",
    "ap_coco = coco_101_point_ap(recalls, precisions)\n",
    "ap_auc = auc_pr_ap(recalls, precisions)\n",
    "\n",
    "print(f\"Pascal VOC 11-point AP: {ap_voc:.4f}\")\n",
    "print(f\"COCO 101-point AP: {ap_coco:.4f}\")\n",
    "print(f\"AUC-PR AP: {ap_auc:.4f}\")"
   ]
  },
  {
   "cell_type": "code",
   "execution_count": 10,
   "metadata": {},
   "outputs": [],
   "source": [
    "from sklearn.model_selection import train_test_split\n",
    "from ultralytics import YOLO\n",
    "import shutil"
   ]
  },
  {
   "cell_type": "code",
   "execution_count": 15,
   "metadata": {},
   "outputs": [
    {
     "name": "stdout",
     "output_type": "stream",
     "text": [
      "Total images with class 0 labels: 2528\n"
     ]
    }
   ],
   "source": [
    "dataset_dir = \"yolo_dataset\"  # Directory to store YOLO formatted dataset\n",
    "\n",
    "# Create YOLO dataset structure\n",
    "for split in ['train', 'val', 'test']:\n",
    "    os.makedirs(os.path.join(dataset_dir, 'images', split), exist_ok=True)\n",
    "    os.makedirs(os.path.join(dataset_dir, 'labels', split), exist_ok=True)\n",
    "\n",
    "# Get image and corresponding label files\n",
    "image_files = [f for f in os.listdir(IMAGES_DIR) if f.endswith('.tif')]\n",
    "\n",
    "def filter_labels(label_path, output_path):\n",
    "    \"\"\"Filter labels to keep only class 0 and write to new file\"\"\"\n",
    "    filtered_lines = []\n",
    "    try:\n",
    "        with open(label_path, 'r') as file:\n",
    "            for line in file:\n",
    "                parts = line.split()\n",
    "                if int(parts[0]) == 0:  # Keep only class 0 labels\n",
    "                    filtered_lines.append(line)\n",
    "        # Write filtered labels to new file\n",
    "        with open(output_path, 'w') as file:\n",
    "            file.writelines(filtered_lines)\n",
    "        return len(filtered_lines) > 0  # Return True if file has valid labels\n",
    "    except:\n",
    "        return False\n",
    "\n",
    "# Collect data pairs and filter labels\n",
    "data = []\n",
    "for img in image_files:\n",
    "    label_file = os.path.splitext(img)[0] + \".txt\"\n",
    "    if label_file in os.listdir(LABELS_DIR):\n",
    "        src_label_path = os.path.join(LABELS_DIR, label_file)\n",
    "        # Create filtered label in temporary location\n",
    "        temp_label_path = os.path.join(dataset_dir, 'temp_labels', label_file)\n",
    "        os.makedirs(os.path.join(dataset_dir, 'temp_labels'), exist_ok=True)\n",
    "        \n",
    "        if filter_labels(src_label_path, temp_label_path):\n",
    "            data.append((img, label_file))\n",
    "\n",
    "print(f\"Total images with class 0 labels: {len(data)}\")\n",
    "\n",
    "# Split dataset into train (80%) and test (20%)\n",
    "train_data, test_data = train_test_split(data, test_size=0.2)\n",
    "# Further split train data into train (90%) and val (10%)\n",
    "train_data, val_data = train_test_split(train_data, test_size=0.1)\n",
    "\n",
    "# Modified move_files function to use filtered labels\n",
    "def move_files(data_split, split_name):\n",
    "    for img, label in data_split:\n",
    "        # Copy image\n",
    "        shutil.copy(os.path.join(IMAGES_DIR, img), \n",
    "                   os.path.join(dataset_dir, 'images', split_name, img))\n",
    "        # Copy filtered label\n",
    "        shutil.copy(os.path.join(dataset_dir, 'temp_labels', label),\n",
    "                   os.path.join(dataset_dir, 'labels', split_name, label))\n",
    "\n",
    "move_files(train_data, 'train')\n",
    "move_files(val_data, 'val')\n",
    "move_files(test_data, 'test')\n",
    "\n",
    "# Clean up temporary labels\n",
    "shutil.rmtree(os.path.join(dataset_dir, 'temp_labels'))\n",
    "\n",
    "# Create YOLOv8 data configuration file\n",
    "data_yaml = f\"\"\"\n",
    "nc: 1\n",
    "names: [\"solar_panel\"]\n",
    "download: \"\"\n",
    "train: {os.path.join(dataset_dir, 'images', 'train')}\n",
    "val: {os.path.join(dataset_dir, 'images', 'val')}\n",
    "test: {os.path.join(dataset_dir, 'images', 'test')}\n",
    "\"\"\"\n",
    "\n",
    "with open(os.path.join(dataset_dir, \"data.yaml\"), \"w\") as f:\n",
    "    f.write(data_yaml)"
   ]
  },
  {
   "cell_type": "code",
   "execution_count": null,
   "metadata": {},
   "outputs": [
    {
     "name": "stdout",
     "output_type": "stream",
     "text": [
      "New https://pypi.org/project/ultralytics/8.3.80 available 😃 Update with 'pip install -U ultralytics'\n",
      "Ultralytics 8.3.75 🚀 Python-3.8.20 torch-2.4.1+cu121 CUDA:5 (Tesla V100-PCIE-32GB, 32501MiB)\n",
      "\u001b[34m\u001b[1mengine/trainer: \u001b[0mtask=detect, mode=train, model=yolov8s.pt, data=yolo_dataset/data.yaml, epochs=20, time=None, patience=100, batch=16, imgsz=416, save=True, save_period=-1, cache=False, device=5, workers=8, project=None, name=train9, exist_ok=False, pretrained=True, optimizer=auto, verbose=True, seed=0, deterministic=True, single_cls=False, rect=False, cos_lr=False, close_mosaic=10, resume=False, amp=True, fraction=1.0, profile=False, freeze=None, multi_scale=False, overlap_mask=True, mask_ratio=4, dropout=0.0, val=True, split=val, save_json=False, save_hybrid=False, conf=None, iou=0.7, max_det=300, half=False, dnn=False, plots=True, source=None, vid_stride=1, stream_buffer=False, visualize=False, augment=False, agnostic_nms=False, classes=None, retina_masks=False, embed=None, show=False, save_frames=False, save_txt=False, save_conf=False, save_crop=False, show_labels=True, show_conf=True, show_boxes=True, line_width=None, format=torchscript, keras=False, optimize=False, int8=False, dynamic=False, simplify=True, opset=None, workspace=None, nms=False, lr0=0.01, lrf=0.01, momentum=0.937, weight_decay=0.0005, warmup_epochs=3.0, warmup_momentum=0.8, warmup_bias_lr=0.1, box=7.5, cls=0.5, dfl=1.5, pose=12.0, kobj=1.0, nbs=64, hsv_h=0.015, hsv_s=0.7, hsv_v=0.4, degrees=0.0, translate=0.1, scale=0.5, shear=0.0, perspective=0.0, flipud=0.0, fliplr=0.5, bgr=0.0, mosaic=1.0, mixup=0.0, copy_paste=0.0, copy_paste_mode=flip, auto_augment=randaugment, erasing=0.4, crop_fraction=1.0, cfg=None, tracker=botsort.yaml, save_dir=runs/detect/train9\n",
      "Overriding model.yaml nc=80 with nc=1\n",
      "\n",
      "                   from  n    params  module                                       arguments                     \n",
      "  0                  -1  1       928  ultralytics.nn.modules.conv.Conv             [3, 32, 3, 2]                 \n",
      "  1                  -1  1     18560  ultralytics.nn.modules.conv.Conv             [32, 64, 3, 2]                \n",
      "  2                  -1  1     29056  ultralytics.nn.modules.block.C2f             [64, 64, 1, True]             \n",
      "  3                  -1  1     73984  ultralytics.nn.modules.conv.Conv             [64, 128, 3, 2]               \n",
      "  4                  -1  2    197632  ultralytics.nn.modules.block.C2f             [128, 128, 2, True]           \n",
      "  5                  -1  1    295424  ultralytics.nn.modules.conv.Conv             [128, 256, 3, 2]              \n",
      "  6                  -1  2    788480  ultralytics.nn.modules.block.C2f             [256, 256, 2, True]           \n",
      "  7                  -1  1   1180672  ultralytics.nn.modules.conv.Conv             [256, 512, 3, 2]              \n",
      "  8                  -1  1   1838080  ultralytics.nn.modules.block.C2f             [512, 512, 1, True]           \n",
      "  9                  -1  1    656896  ultralytics.nn.modules.block.SPPF            [512, 512, 5]                 \n",
      " 10                  -1  1         0  torch.nn.modules.upsampling.Upsample         [None, 2, 'nearest']          \n",
      " 11             [-1, 6]  1         0  ultralytics.nn.modules.conv.Concat           [1]                           \n",
      " 12                  -1  1    591360  ultralytics.nn.modules.block.C2f             [768, 256, 1]                 \n",
      " 13                  -1  1         0  torch.nn.modules.upsampling.Upsample         [None, 2, 'nearest']          \n",
      " 14             [-1, 4]  1         0  ultralytics.nn.modules.conv.Concat           [1]                           \n",
      " 15                  -1  1    148224  ultralytics.nn.modules.block.C2f             [384, 128, 1]                 \n",
      " 16                  -1  1    147712  ultralytics.nn.modules.conv.Conv             [128, 128, 3, 2]              \n",
      " 17            [-1, 12]  1         0  ultralytics.nn.modules.conv.Concat           [1]                           \n",
      " 18                  -1  1    493056  ultralytics.nn.modules.block.C2f             [384, 256, 1]                 \n",
      " 19                  -1  1    590336  ultralytics.nn.modules.conv.Conv             [256, 256, 3, 2]              \n",
      " 20             [-1, 9]  1         0  ultralytics.nn.modules.conv.Concat           [1]                           \n",
      " 21                  -1  1   1969152  ultralytics.nn.modules.block.C2f             [768, 512, 1]                 \n",
      " 22        [15, 18, 21]  1   2116435  ultralytics.nn.modules.head.Detect           [1, [128, 256, 512]]          \n",
      "Model summary: 225 layers, 11,135,987 parameters, 11,135,971 gradients, 28.6 GFLOPs\n",
      "\n",
      "Transferred 349/355 items from pretrained weights\n",
      "Freezing layer 'model.22.dfl.conv.weight'\n",
      "\u001b[34m\u001b[1mAMP: \u001b[0mrunning Automatic Mixed Precision (AMP) checks...\n",
      "WARNING ⚠️ NMS time limit 2.400s exceeded\n",
      "\u001b[34m\u001b[1mAMP: \u001b[0mchecks passed ✅\n"
     ]
    },
    {
     "name": "stderr",
     "output_type": "stream",
     "text": [
      "\u001b[34m\u001b[1mtrain: \u001b[0mScanning /fab3/btech/2022/snehanshu.pal22b/SolarPanel/datasets/yolo_dataset/labels/train.cache... 1829 images, 0 backgrounds, 171 corrupt: 100%|██████████| 1829/1829 [00:00<?, ?it/s]"
     ]
    },
    {
     "name": "stdout",
     "output_type": "stream",
     "text": [
      "\u001b[34m\u001b[1mtrain: \u001b[0mWARNING ⚠️ /fab3/btech/2022/snehanshu.pal22b/SolarPanel/datasets/yolo_dataset/images/train/solarpanels_native_1__x0_0_y0_6963_dxdy_416.tif: ignoring corrupt image/label: Label class 2 exceeds dataset class count 1. Possible class labels are 0-0\n",
      "\u001b[34m\u001b[1mtrain: \u001b[0mWARNING ⚠️ /fab3/btech/2022/snehanshu.pal22b/SolarPanel/datasets/yolo_dataset/images/train/solarpanels_native_1__x0_0_y0_7119_dxdy_416.tif: ignoring corrupt image/label: Label class 2 exceeds dataset class count 1. Possible class labels are 0-0\n",
      "\u001b[34m\u001b[1mtrain: \u001b[0mWARNING ⚠️ /fab3/btech/2022/snehanshu.pal22b/SolarPanel/datasets/yolo_dataset/images/train/solarpanels_native_1__x0_0_y0_7229_dxdy_416.tif: ignoring corrupt image/label: Label class 2 exceeds dataset class count 1. Possible class labels are 0-0\n",
      "\u001b[34m\u001b[1mtrain: \u001b[0mWARNING ⚠️ /fab3/btech/2022/snehanshu.pal22b/SolarPanel/datasets/yolo_dataset/images/train/solarpanels_native_1__x0_0_y0_7230_dxdy_416.tif: ignoring corrupt image/label: Label class 2 exceeds dataset class count 1. Possible class labels are 0-0\n",
      "\u001b[34m\u001b[1mtrain: \u001b[0mWARNING ⚠️ /fab3/btech/2022/snehanshu.pal22b/SolarPanel/datasets/yolo_dataset/images/train/solarpanels_native_1__x0_0_y0_7249_dxdy_416.tif: ignoring corrupt image/label: Label class 2 exceeds dataset class count 1. Possible class labels are 0-0\n",
      "\u001b[34m\u001b[1mtrain: \u001b[0mWARNING ⚠️ /fab3/btech/2022/snehanshu.pal22b/SolarPanel/datasets/yolo_dataset/images/train/solarpanels_native_1__x0_128_y0_7056_dxdy_416.tif: ignoring corrupt image/label: Label class 2 exceeds dataset class count 1. Possible class labels are 0-0\n",
      "\u001b[34m\u001b[1mtrain: \u001b[0mWARNING ⚠️ /fab3/btech/2022/snehanshu.pal22b/SolarPanel/datasets/yolo_dataset/images/train/solarpanels_native_1__x0_1300_y0_10050_dxdy_416.tif: ignoring corrupt image/label: Label class 2 exceeds dataset class count 1. Possible class labels are 0-0\n",
      "\u001b[34m\u001b[1mtrain: \u001b[0mWARNING ⚠️ /fab3/btech/2022/snehanshu.pal22b/SolarPanel/datasets/yolo_dataset/images/train/solarpanels_native_1__x0_1380_y0_10215_dxdy_416.tif: ignoring corrupt image/label: Label class 2 exceeds dataset class count 1. Possible class labels are 0-0\n",
      "\u001b[34m\u001b[1mtrain: \u001b[0mWARNING ⚠️ /fab3/btech/2022/snehanshu.pal22b/SolarPanel/datasets/yolo_dataset/images/train/solarpanels_native_1__x0_1398_y0_10006_dxdy_416.tif: ignoring corrupt image/label: Label class 2 exceeds dataset class count 1. Possible class labels are 0-0\n",
      "\u001b[34m\u001b[1mtrain: \u001b[0mWARNING ⚠️ /fab3/btech/2022/snehanshu.pal22b/SolarPanel/datasets/yolo_dataset/images/train/solarpanels_native_1__x0_139_y0_6989_dxdy_416.tif: ignoring corrupt image/label: Label class 2 exceeds dataset class count 1. Possible class labels are 0-0\n",
      "\u001b[34m\u001b[1mtrain: \u001b[0mWARNING ⚠️ /fab3/btech/2022/snehanshu.pal22b/SolarPanel/datasets/yolo_dataset/images/train/solarpanels_native_1__x0_1501_y0_10325_dxdy_416.tif: ignoring corrupt image/label: Label class 2 exceeds dataset class count 1. Possible class labels are 0-0\n",
      "\u001b[34m\u001b[1mtrain: \u001b[0mWARNING ⚠️ /fab3/btech/2022/snehanshu.pal22b/SolarPanel/datasets/yolo_dataset/images/train/solarpanels_native_1__x0_1536_y0_10086_dxdy_416.tif: ignoring corrupt image/label: Label class 2 exceeds dataset class count 1. Possible class labels are 0-0\n",
      "\u001b[34m\u001b[1mtrain: \u001b[0mWARNING ⚠️ /fab3/btech/2022/snehanshu.pal22b/SolarPanel/datasets/yolo_dataset/images/train/solarpanels_native_1__x0_1762_y0_7503_dxdy_416.tif: ignoring corrupt image/label: Label class 2 exceeds dataset class count 1. Possible class labels are 0-0\n",
      "\u001b[34m\u001b[1mtrain: \u001b[0mWARNING ⚠️ /fab3/btech/2022/snehanshu.pal22b/SolarPanel/datasets/yolo_dataset/images/train/solarpanels_native_1__x0_1853_y0_7572_dxdy_416.tif: ignoring corrupt image/label: Label class 2 exceeds dataset class count 1. Possible class labels are 0-0\n",
      "\u001b[34m\u001b[1mtrain: \u001b[0mWARNING ⚠️ /fab3/btech/2022/snehanshu.pal22b/SolarPanel/datasets/yolo_dataset/images/train/solarpanels_native_1__x0_1998_y0_7709_dxdy_416.tif: ignoring corrupt image/label: Label class 2 exceeds dataset class count 1. Possible class labels are 0-0\n",
      "\u001b[34m\u001b[1mtrain: \u001b[0mWARNING ⚠️ /fab3/btech/2022/snehanshu.pal22b/SolarPanel/datasets/yolo_dataset/images/train/solarpanels_native_1__x0_2300_y0_8080_dxdy_416.tif: ignoring corrupt image/label: Label class 2 exceeds dataset class count 1. Possible class labels are 0-0\n",
      "\u001b[34m\u001b[1mtrain: \u001b[0mWARNING ⚠️ /fab3/btech/2022/snehanshu.pal22b/SolarPanel/datasets/yolo_dataset/images/train/solarpanels_native_1__x0_2311_y0_8124_dxdy_416.tif: ignoring corrupt image/label: Label class 2 exceeds dataset class count 1. Possible class labels are 0-0\n",
      "\u001b[34m\u001b[1mtrain: \u001b[0mWARNING ⚠️ /fab3/btech/2022/snehanshu.pal22b/SolarPanel/datasets/yolo_dataset/images/train/solarpanels_native_1__x0_2344_y0_8184_dxdy_416.tif: ignoring corrupt image/label: Label class 2 exceeds dataset class count 1. Possible class labels are 0-0\n",
      "\u001b[34m\u001b[1mtrain: \u001b[0mWARNING ⚠️ /fab3/btech/2022/snehanshu.pal22b/SolarPanel/datasets/yolo_dataset/images/train/solarpanels_native_1__x0_2362_y0_8220_dxdy_416.tif: ignoring corrupt image/label: Label class 2 exceeds dataset class count 1. Possible class labels are 0-0\n",
      "\u001b[34m\u001b[1mtrain: \u001b[0mWARNING ⚠️ /fab3/btech/2022/snehanshu.pal22b/SolarPanel/datasets/yolo_dataset/images/train/solarpanels_native_1__x0_2399_y0_8081_dxdy_416.tif: ignoring corrupt image/label: Label class 2 exceeds dataset class count 1. Possible class labels are 0-0\n",
      "\u001b[34m\u001b[1mtrain: \u001b[0mWARNING ⚠️ /fab3/btech/2022/snehanshu.pal22b/SolarPanel/datasets/yolo_dataset/images/train/solarpanels_native_1__x0_23_y0_7094_dxdy_416.tif: ignoring corrupt image/label: Label class 2 exceeds dataset class count 1. Possible class labels are 0-0\n",
      "\u001b[34m\u001b[1mtrain: \u001b[0mWARNING ⚠️ /fab3/btech/2022/snehanshu.pal22b/SolarPanel/datasets/yolo_dataset/images/train/solarpanels_native_1__x0_318_y0_7394_dxdy_416.tif: ignoring corrupt image/label: Label class 2 exceeds dataset class count 1. Possible class labels are 0-0\n",
      "\u001b[34m\u001b[1mtrain: \u001b[0mWARNING ⚠️ /fab3/btech/2022/snehanshu.pal22b/SolarPanel/datasets/yolo_dataset/images/train/solarpanels_native_1__x0_338_y0_7199_dxdy_416.tif: ignoring corrupt image/label: Label class 2 exceeds dataset class count 1. Possible class labels are 0-0\n",
      "\u001b[34m\u001b[1mtrain: \u001b[0mWARNING ⚠️ /fab3/btech/2022/snehanshu.pal22b/SolarPanel/datasets/yolo_dataset/images/train/solarpanels_native_1__x0_366_y0_7369_dxdy_416.tif: ignoring corrupt image/label: Label class 2 exceeds dataset class count 1. Possible class labels are 0-0\n",
      "\u001b[34m\u001b[1mtrain: \u001b[0mWARNING ⚠️ /fab3/btech/2022/snehanshu.pal22b/SolarPanel/datasets/yolo_dataset/images/train/solarpanels_native_1__x0_368_y0_7395_dxdy_416.tif: ignoring corrupt image/label: Label class 2 exceeds dataset class count 1. Possible class labels are 0-0\n",
      "\u001b[34m\u001b[1mtrain: \u001b[0mWARNING ⚠️ /fab3/btech/2022/snehanshu.pal22b/SolarPanel/datasets/yolo_dataset/images/train/solarpanels_native_1__x0_402_y0_7433_dxdy_416.tif: ignoring corrupt image/label: Label class 2 exceeds dataset class count 1. Possible class labels are 0-0\n",
      "\u001b[34m\u001b[1mtrain: \u001b[0mWARNING ⚠️ /fab3/btech/2022/snehanshu.pal22b/SolarPanel/datasets/yolo_dataset/images/train/solarpanels_native_1__x0_7374_y0_9622_dxdy_416.tif: ignoring corrupt image/label: Label class 2 exceeds dataset class count 1. Possible class labels are 0-0\n",
      "\u001b[34m\u001b[1mtrain: \u001b[0mWARNING ⚠️ /fab3/btech/2022/snehanshu.pal22b/SolarPanel/datasets/yolo_dataset/images/train/solarpanels_native_1__x0_7438_y0_9843_dxdy_416.tif: ignoring corrupt image/label: Label class 2 exceeds dataset class count 1. Possible class labels are 0-0\n",
      "\u001b[34m\u001b[1mtrain: \u001b[0mWARNING ⚠️ /fab3/btech/2022/snehanshu.pal22b/SolarPanel/datasets/yolo_dataset/images/train/solarpanels_native_1__x0_7474_y0_9842_dxdy_416.tif: ignoring corrupt image/label: Label class 2 exceeds dataset class count 1. Possible class labels are 0-0\n",
      "\u001b[34m\u001b[1mtrain: \u001b[0mWARNING ⚠️ /fab3/btech/2022/snehanshu.pal22b/SolarPanel/datasets/yolo_dataset/images/train/solarpanels_native_1__x0_7511_y0_9647_dxdy_416.tif: ignoring corrupt image/label: Label class 2 exceeds dataset class count 1. Possible class labels are 0-0\n",
      "\u001b[34m\u001b[1mtrain: \u001b[0mWARNING ⚠️ /fab3/btech/2022/snehanshu.pal22b/SolarPanel/datasets/yolo_dataset/images/train/solarpanels_native_1__x0_7603_y0_9742_dxdy_416.tif: ignoring corrupt image/label: Label class 2 exceeds dataset class count 1. Possible class labels are 0-0\n",
      "\u001b[34m\u001b[1mtrain: \u001b[0mWARNING ⚠️ /fab3/btech/2022/snehanshu.pal22b/SolarPanel/datasets/yolo_dataset/images/train/solarpanels_native_1__x0_7604_y0_9799_dxdy_416.tif: ignoring corrupt image/label: Label class 2 exceeds dataset class count 1. Possible class labels are 0-0\n",
      "\u001b[34m\u001b[1mtrain: \u001b[0mWARNING ⚠️ /fab3/btech/2022/snehanshu.pal22b/SolarPanel/datasets/yolo_dataset/images/train/solarpanels_native_1__x0_7877_y0_11703_dxdy_416.tif: ignoring corrupt image/label: Label class 2 exceeds dataset class count 1. Possible class labels are 0-0\n",
      "\u001b[34m\u001b[1mtrain: \u001b[0mWARNING ⚠️ /fab3/btech/2022/snehanshu.pal22b/SolarPanel/datasets/yolo_dataset/images/train/solarpanels_native_1__x0_7898_y0_11681_dxdy_416.tif: ignoring corrupt image/label: Label class 2 exceeds dataset class count 1. Possible class labels are 0-0\n",
      "\u001b[34m\u001b[1mtrain: \u001b[0mWARNING ⚠️ /fab3/btech/2022/snehanshu.pal22b/SolarPanel/datasets/yolo_dataset/images/train/solarpanels_native_1__x0_7_y0_6959_dxdy_416.tif: ignoring corrupt image/label: Label class 2 exceeds dataset class count 1. Possible class labels are 0-0\n",
      "\u001b[34m\u001b[1mtrain: \u001b[0mWARNING ⚠️ /fab3/btech/2022/snehanshu.pal22b/SolarPanel/datasets/yolo_dataset/images/train/solarpanels_native_1__x0_8039_y0_8735_dxdy_416.tif: ignoring corrupt image/label: Label class 2 exceeds dataset class count 1. Possible class labels are 0-0\n",
      "\u001b[34m\u001b[1mtrain: \u001b[0mWARNING ⚠️ /fab3/btech/2022/snehanshu.pal22b/SolarPanel/datasets/yolo_dataset/images/train/solarpanels_native_1__x0_8050_y0_8562_dxdy_416.tif: ignoring corrupt image/label: Label class 2 exceeds dataset class count 1. Possible class labels are 0-0\n",
      "\u001b[34m\u001b[1mtrain: \u001b[0mWARNING ⚠️ /fab3/btech/2022/snehanshu.pal22b/SolarPanel/datasets/yolo_dataset/images/train/solarpanels_native_1__x0_8142_y0_8745_dxdy_416.tif: ignoring corrupt image/label: Label class 2 exceeds dataset class count 1. Possible class labels are 0-0\n",
      "\u001b[34m\u001b[1mtrain: \u001b[0mWARNING ⚠️ /fab3/btech/2022/snehanshu.pal22b/SolarPanel/datasets/yolo_dataset/images/train/solarpanels_native_1__x0_8154_y0_7753_dxdy_416.tif: ignoring corrupt image/label: Label class 2 exceeds dataset class count 1. Possible class labels are 0-0\n",
      "\u001b[34m\u001b[1mtrain: \u001b[0mWARNING ⚠️ /fab3/btech/2022/snehanshu.pal22b/SolarPanel/datasets/yolo_dataset/images/train/solarpanels_native_1__x0_8158_y0_9952_dxdy_416.tif: ignoring corrupt image/label: Label class 2 exceeds dataset class count 1. Possible class labels are 0-0\n",
      "\u001b[34m\u001b[1mtrain: \u001b[0mWARNING ⚠️ /fab3/btech/2022/snehanshu.pal22b/SolarPanel/datasets/yolo_dataset/images/train/solarpanels_native_1__x0_8232_y0_7817_dxdy_416.tif: ignoring corrupt image/label: Label class 2 exceeds dataset class count 1. Possible class labels are 0-0\n",
      "\u001b[34m\u001b[1mtrain: \u001b[0mWARNING ⚠️ /fab3/btech/2022/snehanshu.pal22b/SolarPanel/datasets/yolo_dataset/images/train/solarpanels_native_1__x0_8248_y0_7817_dxdy_416.tif: ignoring corrupt image/label: Label class 2 exceeds dataset class count 1. Possible class labels are 0-0\n",
      "\u001b[34m\u001b[1mtrain: \u001b[0mWARNING ⚠️ /fab3/btech/2022/snehanshu.pal22b/SolarPanel/datasets/yolo_dataset/images/train/solarpanels_native_1__x0_8254_y0_8661_dxdy_416.tif: ignoring corrupt image/label: Label class 2 exceeds dataset class count 1. Possible class labels are 0-0\n",
      "\u001b[34m\u001b[1mtrain: \u001b[0mWARNING ⚠️ /fab3/btech/2022/snehanshu.pal22b/SolarPanel/datasets/yolo_dataset/images/train/solarpanels_native_1__x0_8274_y0_7639_dxdy_416.tif: ignoring corrupt image/label: Label class 2 exceeds dataset class count 1. Possible class labels are 0-0\n",
      "\u001b[34m\u001b[1mtrain: \u001b[0mWARNING ⚠️ /fab3/btech/2022/snehanshu.pal22b/SolarPanel/datasets/yolo_dataset/images/train/solarpanels_native_1__x0_82_y0_6947_dxdy_416.tif: ignoring corrupt image/label: Label class 2 exceeds dataset class count 1. Possible class labels are 0-0\n",
      "\u001b[34m\u001b[1mtrain: \u001b[0mWARNING ⚠️ /fab3/btech/2022/snehanshu.pal22b/SolarPanel/datasets/yolo_dataset/images/train/solarpanels_native_1__x0_8306_y0_8749_dxdy_416.tif: ignoring corrupt image/label: Label class 2 exceeds dataset class count 1. Possible class labels are 0-0\n",
      "\u001b[34m\u001b[1mtrain: \u001b[0mWARNING ⚠️ /fab3/btech/2022/snehanshu.pal22b/SolarPanel/datasets/yolo_dataset/images/train/solarpanels_native_1__x0_8327_y0_7745_dxdy_416.tif: ignoring corrupt image/label: Label class 2 exceeds dataset class count 1. Possible class labels are 0-0\n",
      "\u001b[34m\u001b[1mtrain: \u001b[0mWARNING ⚠️ /fab3/btech/2022/snehanshu.pal22b/SolarPanel/datasets/yolo_dataset/images/train/solarpanels_native_1__x0_8335_y0_7902_dxdy_416.tif: ignoring corrupt image/label: Label class 2 exceeds dataset class count 1. Possible class labels are 0-0\n",
      "\u001b[34m\u001b[1mtrain: \u001b[0mWARNING ⚠️ /fab3/btech/2022/snehanshu.pal22b/SolarPanel/datasets/yolo_dataset/images/train/solarpanels_native_1__x0_8344_y0_8586_dxdy_416.tif: ignoring corrupt image/label: Label class 2 exceeds dataset class count 1. Possible class labels are 0-0\n",
      "\u001b[34m\u001b[1mtrain: \u001b[0mWARNING ⚠️ /fab3/btech/2022/snehanshu.pal22b/SolarPanel/datasets/yolo_dataset/images/train/solarpanels_native_1__x0_8356_y0_9984_dxdy_416.tif: ignoring corrupt image/label: Label class 2 exceeds dataset class count 1. Possible class labels are 0-0\n",
      "\u001b[34m\u001b[1mtrain: \u001b[0mWARNING ⚠️ /fab3/btech/2022/snehanshu.pal22b/SolarPanel/datasets/yolo_dataset/images/train/solarpanels_native_1__x0_8366_y0_9849_dxdy_416.tif: ignoring corrupt image/label: Label class 2 exceeds dataset class count 1. Possible class labels are 0-0\n",
      "\u001b[34m\u001b[1mtrain: \u001b[0mWARNING ⚠️ /fab3/btech/2022/snehanshu.pal22b/SolarPanel/datasets/yolo_dataset/images/train/solarpanels_native_1__x0_8393_y0_10108_dxdy_416.tif: ignoring corrupt image/label: Label class 2 exceeds dataset class count 1. Possible class labels are 0-0\n",
      "\u001b[34m\u001b[1mtrain: \u001b[0mWARNING ⚠️ /fab3/btech/2022/snehanshu.pal22b/SolarPanel/datasets/yolo_dataset/images/train/solarpanels_native_1__x0_8468_y0_10003_dxdy_416.tif: ignoring corrupt image/label: Label class 1 exceeds dataset class count 1. Possible class labels are 0-0\n",
      "\u001b[34m\u001b[1mtrain: \u001b[0mWARNING ⚠️ /fab3/btech/2022/snehanshu.pal22b/SolarPanel/datasets/yolo_dataset/images/train/solarpanels_native_1__x0_8565_y0_11093_dxdy_416.tif: ignoring corrupt image/label: Label class 2 exceeds dataset class count 1. Possible class labels are 0-0\n",
      "\u001b[34m\u001b[1mtrain: \u001b[0mWARNING ⚠️ /fab3/btech/2022/snehanshu.pal22b/SolarPanel/datasets/yolo_dataset/images/train/solarpanels_native_1__x0_8573_y0_11090_dxdy_416.tif: ignoring corrupt image/label: Label class 2 exceeds dataset class count 1. Possible class labels are 0-0\n",
      "\u001b[34m\u001b[1mtrain: \u001b[0mWARNING ⚠️ /fab3/btech/2022/snehanshu.pal22b/SolarPanel/datasets/yolo_dataset/images/train/solarpanels_native_1__x0_8582_y0_11150_dxdy_416.tif: ignoring corrupt image/label: Label class 2 exceeds dataset class count 1. Possible class labels are 0-0\n",
      "\u001b[34m\u001b[1mtrain: \u001b[0mWARNING ⚠️ /fab3/btech/2022/snehanshu.pal22b/SolarPanel/datasets/yolo_dataset/images/train/solarpanels_native_1__x0_8596_y0_11097_dxdy_416.tif: ignoring corrupt image/label: Label class 2 exceeds dataset class count 1. Possible class labels are 0-0\n",
      "\u001b[34m\u001b[1mtrain: \u001b[0mWARNING ⚠️ /fab3/btech/2022/snehanshu.pal22b/SolarPanel/datasets/yolo_dataset/images/train/solarpanels_native_1__x0_8623_y0_10945_dxdy_416.tif: ignoring corrupt image/label: Label class 2 exceeds dataset class count 1. Possible class labels are 0-0\n",
      "\u001b[34m\u001b[1mtrain: \u001b[0mWARNING ⚠️ /fab3/btech/2022/snehanshu.pal22b/SolarPanel/datasets/yolo_dataset/images/train/solarpanels_native_1__x0_8628_y0_10957_dxdy_416.tif: ignoring corrupt image/label: Label class 2 exceeds dataset class count 1. Possible class labels are 0-0\n",
      "\u001b[34m\u001b[1mtrain: \u001b[0mWARNING ⚠️ /fab3/btech/2022/snehanshu.pal22b/SolarPanel/datasets/yolo_dataset/images/train/solarpanels_native_1__x0_8635_y0_10963_dxdy_416.tif: ignoring corrupt image/label: Label class 2 exceeds dataset class count 1. Possible class labels are 0-0\n",
      "\u001b[34m\u001b[1mtrain: \u001b[0mWARNING ⚠️ /fab3/btech/2022/snehanshu.pal22b/SolarPanel/datasets/yolo_dataset/images/train/solarpanels_native_1__x0_8664_y0_11014_dxdy_416.tif: ignoring corrupt image/label: Label class 2 exceeds dataset class count 1. Possible class labels are 0-0\n",
      "\u001b[34m\u001b[1mtrain: \u001b[0mWARNING ⚠️ /fab3/btech/2022/snehanshu.pal22b/SolarPanel/datasets/yolo_dataset/images/train/solarpanels_native_1__x0_9331_y0_11009_dxdy_416.tif: ignoring corrupt image/label: Label class 2 exceeds dataset class count 1. Possible class labels are 0-0\n",
      "\u001b[34m\u001b[1mtrain: \u001b[0mWARNING ⚠️ /fab3/btech/2022/snehanshu.pal22b/SolarPanel/datasets/yolo_dataset/images/train/solarpanels_native_1__x0_9349_y0_11014_dxdy_416.tif: ignoring corrupt image/label: Label class 2 exceeds dataset class count 1. Possible class labels are 0-0\n",
      "\u001b[34m\u001b[1mtrain: \u001b[0mWARNING ⚠️ /fab3/btech/2022/snehanshu.pal22b/SolarPanel/datasets/yolo_dataset/images/train/solarpanels_native_1__x0_9377_y0_11060_dxdy_416.tif: ignoring corrupt image/label: Label class 2 exceeds dataset class count 1. Possible class labels are 0-0\n",
      "\u001b[34m\u001b[1mtrain: \u001b[0mWARNING ⚠️ /fab3/btech/2022/snehanshu.pal22b/SolarPanel/datasets/yolo_dataset/images/train/solarpanels_native_1__x0_9384_y0_11061_dxdy_416.tif: ignoring corrupt image/label: Label class 2 exceeds dataset class count 1. Possible class labels are 0-0\n",
      "\u001b[34m\u001b[1mtrain: \u001b[0mWARNING ⚠️ /fab3/btech/2022/snehanshu.pal22b/SolarPanel/datasets/yolo_dataset/images/train/solarpanels_native_1__x0_9405_y0_10916_dxdy_416.tif: ignoring corrupt image/label: Label class 2 exceeds dataset class count 1. Possible class labels are 0-0\n",
      "\u001b[34m\u001b[1mtrain: \u001b[0mWARNING ⚠️ /fab3/btech/2022/snehanshu.pal22b/SolarPanel/datasets/yolo_dataset/images/train/solarpanels_native_1__x0_9453_y0_11025_dxdy_416.tif: ignoring corrupt image/label: Label class 2 exceeds dataset class count 1. Possible class labels are 0-0\n",
      "\u001b[34m\u001b[1mtrain: \u001b[0mWARNING ⚠️ /fab3/btech/2022/snehanshu.pal22b/SolarPanel/datasets/yolo_dataset/images/train/solarpanels_native_1__x0_9462_y0_10952_dxdy_416.tif: ignoring corrupt image/label: Label class 2 exceeds dataset class count 1. Possible class labels are 0-0\n",
      "\u001b[34m\u001b[1mtrain: \u001b[0mWARNING ⚠️ /fab3/btech/2022/snehanshu.pal22b/SolarPanel/datasets/yolo_dataset/images/train/solarpanels_native_1__x0_9475_y0_10997_dxdy_416.tif: ignoring corrupt image/label: Label class 2 exceeds dataset class count 1. Possible class labels are 0-0\n",
      "\u001b[34m\u001b[1mtrain: \u001b[0mWARNING ⚠️ /fab3/btech/2022/snehanshu.pal22b/SolarPanel/datasets/yolo_dataset/images/train/solarpanels_native_1__x0_9478_y0_10992_dxdy_416.tif: ignoring corrupt image/label: Label class 2 exceeds dataset class count 1. Possible class labels are 0-0\n",
      "\u001b[34m\u001b[1mtrain: \u001b[0mWARNING ⚠️ /fab3/btech/2022/snehanshu.pal22b/SolarPanel/datasets/yolo_dataset/images/train/solarpanels_native_1__x0_9486_y0_11065_dxdy_416.tif: ignoring corrupt image/label: Label class 2 exceeds dataset class count 1. Possible class labels are 0-0\n",
      "\u001b[34m\u001b[1mtrain: \u001b[0mWARNING ⚠️ /fab3/btech/2022/snehanshu.pal22b/SolarPanel/datasets/yolo_dataset/images/train/solarpanels_native_1__x0_9498_y0_11008_dxdy_416.tif: ignoring corrupt image/label: Label class 2 exceeds dataset class count 1. Possible class labels are 0-0\n",
      "\u001b[34m\u001b[1mtrain: \u001b[0mWARNING ⚠️ /fab3/btech/2022/snehanshu.pal22b/SolarPanel/datasets/yolo_dataset/images/train/solarpanels_native_1__x0_9502_y0_10952_dxdy_416.tif: ignoring corrupt image/label: Label class 2 exceeds dataset class count 1. Possible class labels are 0-0\n",
      "\u001b[34m\u001b[1mtrain: \u001b[0mWARNING ⚠️ /fab3/btech/2022/snehanshu.pal22b/SolarPanel/datasets/yolo_dataset/images/train/solarpanels_native_1__x0_9658_y0_10999_dxdy_416.tif: ignoring corrupt image/label: Label class 2 exceeds dataset class count 1. Possible class labels are 0-0\n",
      "\u001b[34m\u001b[1mtrain: \u001b[0mWARNING ⚠️ /fab3/btech/2022/snehanshu.pal22b/SolarPanel/datasets/yolo_dataset/images/train/solarpanels_native_1__x0_9671_y0_10745_dxdy_416.tif: ignoring corrupt image/label: Label class 2 exceeds dataset class count 1. Possible class labels are 0-0\n",
      "\u001b[34m\u001b[1mtrain: \u001b[0mWARNING ⚠️ /fab3/btech/2022/snehanshu.pal22b/SolarPanel/datasets/yolo_dataset/images/train/solarpanels_native_1__x0_9783_y0_10933_dxdy_416.tif: ignoring corrupt image/label: Label class 2 exceeds dataset class count 1. Possible class labels are 0-0\n",
      "\u001b[34m\u001b[1mtrain: \u001b[0mWARNING ⚠️ /fab3/btech/2022/snehanshu.pal22b/SolarPanel/datasets/yolo_dataset/images/train/solarpanels_native_1__x0_9788_y0_10663_dxdy_416.tif: ignoring corrupt image/label: Label class 2 exceeds dataset class count 1. Possible class labels are 0-0\n",
      "\u001b[34m\u001b[1mtrain: \u001b[0mWARNING ⚠️ /fab3/btech/2022/snehanshu.pal22b/SolarPanel/datasets/yolo_dataset/images/train/solarpanels_native_1__x0_9847_y0_10811_dxdy_416.tif: ignoring corrupt image/label: Label class 2 exceeds dataset class count 1. Possible class labels are 0-0\n",
      "\u001b[34m\u001b[1mtrain: \u001b[0mWARNING ⚠️ /fab3/btech/2022/snehanshu.pal22b/SolarPanel/datasets/yolo_dataset/images/train/solarpanels_native_1__x0_98_y0_7130_dxdy_416.tif: ignoring corrupt image/label: Label class 2 exceeds dataset class count 1. Possible class labels are 0-0\n",
      "\u001b[34m\u001b[1mtrain: \u001b[0mWARNING ⚠️ /fab3/btech/2022/snehanshu.pal22b/SolarPanel/datasets/yolo_dataset/images/train/solarpanels_native_1__x0_9997_y0_10685_dxdy_416.tif: ignoring corrupt image/label: Label class 2 exceeds dataset class count 1. Possible class labels are 0-0\n",
      "\u001b[34m\u001b[1mtrain: \u001b[0mWARNING ⚠️ /fab3/btech/2022/snehanshu.pal22b/SolarPanel/datasets/yolo_dataset/images/train/solarpanels_native_2__x0_10553_y0_5621_dxdy_416.tif: ignoring corrupt image/label: Label class 1 exceeds dataset class count 1. Possible class labels are 0-0\n",
      "\u001b[34m\u001b[1mtrain: \u001b[0mWARNING ⚠️ /fab3/btech/2022/snehanshu.pal22b/SolarPanel/datasets/yolo_dataset/images/train/solarpanels_native_2__x0_14692_y0_14213_dxdy_416.tif: ignoring corrupt image/label: Label class 1 exceeds dataset class count 1. Possible class labels are 0-0\n",
      "\u001b[34m\u001b[1mtrain: \u001b[0mWARNING ⚠️ /fab3/btech/2022/snehanshu.pal22b/SolarPanel/datasets/yolo_dataset/images/train/solarpanels_native_2__x0_1683_y0_9664_dxdy_416.tif: ignoring corrupt image/label: Label class 1 exceeds dataset class count 1. Possible class labels are 0-0\n",
      "\u001b[34m\u001b[1mtrain: \u001b[0mWARNING ⚠️ /fab3/btech/2022/snehanshu.pal22b/SolarPanel/datasets/yolo_dataset/images/train/solarpanels_native_2__x0_1716_y0_9633_dxdy_416.tif: ignoring corrupt image/label: Label class 1 exceeds dataset class count 1. Possible class labels are 0-0\n",
      "\u001b[34m\u001b[1mtrain: \u001b[0mWARNING ⚠️ /fab3/btech/2022/snehanshu.pal22b/SolarPanel/datasets/yolo_dataset/images/train/solarpanels_native_2__x0_1724_y0_9729_dxdy_416.tif: ignoring corrupt image/label: Label class 1 exceeds dataset class count 1. Possible class labels are 0-0\n",
      "\u001b[34m\u001b[1mtrain: \u001b[0mWARNING ⚠️ /fab3/btech/2022/snehanshu.pal22b/SolarPanel/datasets/yolo_dataset/images/train/solarpanels_native_2__x0_4747_y0_12358_dxdy_416.tif: ignoring corrupt image/label: Label class 2 exceeds dataset class count 1. Possible class labels are 0-0\n",
      "\u001b[34m\u001b[1mtrain: \u001b[0mWARNING ⚠️ /fab3/btech/2022/snehanshu.pal22b/SolarPanel/datasets/yolo_dataset/images/train/solarpanels_native_2__x0_4837_y0_12375_dxdy_416.tif: ignoring corrupt image/label: Label class 2 exceeds dataset class count 1. Possible class labels are 0-0\n",
      "\u001b[34m\u001b[1mtrain: \u001b[0mWARNING ⚠️ /fab3/btech/2022/snehanshu.pal22b/SolarPanel/datasets/yolo_dataset/images/train/solarpanels_native_2__x0_4882_y0_12418_dxdy_416.tif: ignoring corrupt image/label: Label class 2 exceeds dataset class count 1. Possible class labels are 0-0\n",
      "\u001b[34m\u001b[1mtrain: \u001b[0mWARNING ⚠️ /fab3/btech/2022/snehanshu.pal22b/SolarPanel/datasets/yolo_dataset/images/train/solarpanels_native_2__x0_4900_y0_12382_dxdy_416.tif: ignoring corrupt image/label: Label class 2 exceeds dataset class count 1. Possible class labels are 0-0\n",
      "\u001b[34m\u001b[1mtrain: \u001b[0mWARNING ⚠️ /fab3/btech/2022/snehanshu.pal22b/SolarPanel/datasets/yolo_dataset/images/train/solarpanels_native_2__x0_4996_y0_5664_dxdy_416.tif: ignoring corrupt image/label: Label class 2 exceeds dataset class count 1. Possible class labels are 0-0\n",
      "\u001b[34m\u001b[1mtrain: \u001b[0mWARNING ⚠️ /fab3/btech/2022/snehanshu.pal22b/SolarPanel/datasets/yolo_dataset/images/train/solarpanels_native_2__x0_5011_y0_5801_dxdy_416.tif: ignoring corrupt image/label: Label class 2 exceeds dataset class count 1. Possible class labels are 0-0\n",
      "\u001b[34m\u001b[1mtrain: \u001b[0mWARNING ⚠️ /fab3/btech/2022/snehanshu.pal22b/SolarPanel/datasets/yolo_dataset/images/train/solarpanels_native_2__x0_5033_y0_5566_dxdy_416.tif: ignoring corrupt image/label: Label class 2 exceeds dataset class count 1. Possible class labels are 0-0\n",
      "\u001b[34m\u001b[1mtrain: \u001b[0mWARNING ⚠️ /fab3/btech/2022/snehanshu.pal22b/SolarPanel/datasets/yolo_dataset/images/train/solarpanels_native_2__x0_5096_y0_5639_dxdy_416.tif: ignoring corrupt image/label: Label class 2 exceeds dataset class count 1. Possible class labels are 0-0\n",
      "\u001b[34m\u001b[1mtrain: \u001b[0mWARNING ⚠️ /fab3/btech/2022/snehanshu.pal22b/SolarPanel/datasets/yolo_dataset/images/train/solarpanels_native_2__x0_5126_y0_5754_dxdy_416.tif: ignoring corrupt image/label: Label class 2 exceeds dataset class count 1. Possible class labels are 0-0\n",
      "\u001b[34m\u001b[1mtrain: \u001b[0mWARNING ⚠️ /fab3/btech/2022/snehanshu.pal22b/SolarPanel/datasets/yolo_dataset/images/train/solarpanels_native_2__x0_5133_y0_5800_dxdy_416.tif: ignoring corrupt image/label: Label class 2 exceeds dataset class count 1. Possible class labels are 0-0\n",
      "\u001b[34m\u001b[1mtrain: \u001b[0mWARNING ⚠️ /fab3/btech/2022/snehanshu.pal22b/SolarPanel/datasets/yolo_dataset/images/train/solarpanels_native_2__x0_5175_y0_5766_dxdy_416.tif: ignoring corrupt image/label: Label class 2 exceeds dataset class count 1. Possible class labels are 0-0\n",
      "\u001b[34m\u001b[1mtrain: \u001b[0mWARNING ⚠️ /fab3/btech/2022/snehanshu.pal22b/SolarPanel/datasets/yolo_dataset/images/train/solarpanels_native_2__x0_5176_y0_6131_dxdy_416.tif: ignoring corrupt image/label: Label class 1 exceeds dataset class count 1. Possible class labels are 0-0\n",
      "\u001b[34m\u001b[1mtrain: \u001b[0mWARNING ⚠️ /fab3/btech/2022/snehanshu.pal22b/SolarPanel/datasets/yolo_dataset/images/train/solarpanels_native_2__x0_5184_y0_6305_dxdy_416.tif: ignoring corrupt image/label: Label class 1 exceeds dataset class count 1. Possible class labels are 0-0\n",
      "\u001b[34m\u001b[1mtrain: \u001b[0mWARNING ⚠️ /fab3/btech/2022/snehanshu.pal22b/SolarPanel/datasets/yolo_dataset/images/train/solarpanels_native_2__x0_5187_y0_6620_dxdy_416.tif: ignoring corrupt image/label: Label class 1 exceeds dataset class count 1. Possible class labels are 0-0\n",
      "\u001b[34m\u001b[1mtrain: \u001b[0mWARNING ⚠️ /fab3/btech/2022/snehanshu.pal22b/SolarPanel/datasets/yolo_dataset/images/train/solarpanels_native_2__x0_5256_y0_6824_dxdy_416.tif: ignoring corrupt image/label: Label class 1 exceeds dataset class count 1. Possible class labels are 0-0\n",
      "\u001b[34m\u001b[1mtrain: \u001b[0mWARNING ⚠️ /fab3/btech/2022/snehanshu.pal22b/SolarPanel/datasets/yolo_dataset/images/train/solarpanels_native_2__x0_5369_y0_6108_dxdy_416.tif: ignoring corrupt image/label: Label class 1 exceeds dataset class count 1. Possible class labels are 0-0\n",
      "\u001b[34m\u001b[1mtrain: \u001b[0mWARNING ⚠️ /fab3/btech/2022/snehanshu.pal22b/SolarPanel/datasets/yolo_dataset/images/train/solarpanels_native_2__x0_5377_y0_6585_dxdy_416.tif: ignoring corrupt image/label: Label class 1 exceeds dataset class count 1. Possible class labels are 0-0\n",
      "\u001b[34m\u001b[1mtrain: \u001b[0mWARNING ⚠️ /fab3/btech/2022/snehanshu.pal22b/SolarPanel/datasets/yolo_dataset/images/train/solarpanels_native_2__x0_5426_y0_6012_dxdy_416.tif: ignoring corrupt image/label: Label class 1 exceeds dataset class count 1. Possible class labels are 0-0\n",
      "\u001b[34m\u001b[1mtrain: \u001b[0mWARNING ⚠️ /fab3/btech/2022/snehanshu.pal22b/SolarPanel/datasets/yolo_dataset/images/train/solarpanels_native_2__x0_5549_y0_6002_dxdy_416.tif: ignoring corrupt image/label: Label class 1 exceeds dataset class count 1. Possible class labels are 0-0\n",
      "\u001b[34m\u001b[1mtrain: \u001b[0mWARNING ⚠️ /fab3/btech/2022/snehanshu.pal22b/SolarPanel/datasets/yolo_dataset/images/train/solarpanels_native_2__x0_5600_y0_5265_dxdy_416.tif: ignoring corrupt image/label: Label class 1 exceeds dataset class count 1. Possible class labels are 0-0\n",
      "\u001b[34m\u001b[1mtrain: \u001b[0mWARNING ⚠️ /fab3/btech/2022/snehanshu.pal22b/SolarPanel/datasets/yolo_dataset/images/train/solarpanels_native_2__x0_5619_y0_5655_dxdy_416.tif: ignoring corrupt image/label: Label class 1 exceeds dataset class count 1. Possible class labels are 0-0\n",
      "\u001b[34m\u001b[1mtrain: \u001b[0mWARNING ⚠️ /fab3/btech/2022/snehanshu.pal22b/SolarPanel/datasets/yolo_dataset/images/train/solarpanels_native_2__x0_5641_y0_5299_dxdy_416.tif: ignoring corrupt image/label: Label class 1 exceeds dataset class count 1. Possible class labels are 0-0\n",
      "\u001b[34m\u001b[1mtrain: \u001b[0mWARNING ⚠️ /fab3/btech/2022/snehanshu.pal22b/SolarPanel/datasets/yolo_dataset/images/train/solarpanels_native_2__x0_5643_y0_5508_dxdy_416.tif: ignoring corrupt image/label: Label class 1 exceeds dataset class count 1. Possible class labels are 0-0\n",
      "\u001b[34m\u001b[1mtrain: \u001b[0mWARNING ⚠️ /fab3/btech/2022/snehanshu.pal22b/SolarPanel/datasets/yolo_dataset/images/train/solarpanels_native_2__x0_5703_y0_5273_dxdy_416.tif: ignoring corrupt image/label: Label class 1 exceeds dataset class count 1. Possible class labels are 0-0\n",
      "\u001b[34m\u001b[1mtrain: \u001b[0mWARNING ⚠️ /fab3/btech/2022/snehanshu.pal22b/SolarPanel/datasets/yolo_dataset/images/train/solarpanels_native_2__x0_5736_y0_5488_dxdy_416.tif: ignoring corrupt image/label: Label class 1 exceeds dataset class count 1. Possible class labels are 0-0\n",
      "\u001b[34m\u001b[1mtrain: \u001b[0mWARNING ⚠️ /fab3/btech/2022/snehanshu.pal22b/SolarPanel/datasets/yolo_dataset/images/train/solarpanels_native_2__x0_5772_y0_5608_dxdy_416.tif: ignoring corrupt image/label: Label class 1 exceeds dataset class count 1. Possible class labels are 0-0\n",
      "\u001b[34m\u001b[1mtrain: \u001b[0mWARNING ⚠️ /fab3/btech/2022/snehanshu.pal22b/SolarPanel/datasets/yolo_dataset/images/train/solarpanels_native_2__x0_5795_y0_5600_dxdy_416.tif: ignoring corrupt image/label: Label class 1 exceeds dataset class count 1. Possible class labels are 0-0\n",
      "\u001b[34m\u001b[1mtrain: \u001b[0mWARNING ⚠️ /fab3/btech/2022/snehanshu.pal22b/SolarPanel/datasets/yolo_dataset/images/train/solarpanels_native_2__x0_5805_y0_5391_dxdy_416.tif: ignoring corrupt image/label: Label class 1 exceeds dataset class count 1. Possible class labels are 0-0\n",
      "\u001b[34m\u001b[1mtrain: \u001b[0mWARNING ⚠️ /fab3/btech/2022/snehanshu.pal22b/SolarPanel/datasets/yolo_dataset/images/train/solarpanels_native_2__x0_5816_y0_5494_dxdy_416.tif: ignoring corrupt image/label: Label class 1 exceeds dataset class count 1. Possible class labels are 0-0\n",
      "\u001b[34m\u001b[1mtrain: \u001b[0mWARNING ⚠️ /fab3/btech/2022/snehanshu.pal22b/SolarPanel/datasets/yolo_dataset/images/train/solarpanels_native_2__x0_5828_y0_5677_dxdy_416.tif: ignoring corrupt image/label: Label class 1 exceeds dataset class count 1. Possible class labels are 0-0\n",
      "\u001b[34m\u001b[1mtrain: \u001b[0mWARNING ⚠️ /fab3/btech/2022/snehanshu.pal22b/SolarPanel/datasets/yolo_dataset/images/train/solarpanels_native_2__x0_5980_y0_5654_dxdy_416.tif: ignoring corrupt image/label: Label class 1 exceeds dataset class count 1. Possible class labels are 0-0\n",
      "\u001b[34m\u001b[1mtrain: \u001b[0mWARNING ⚠️ /fab3/btech/2022/snehanshu.pal22b/SolarPanel/datasets/yolo_dataset/images/train/solarpanels_native_2__x0_6876_y0_9926_dxdy_416.tif: ignoring corrupt image/label: Label class 1 exceeds dataset class count 1. Possible class labels are 0-0\n",
      "\u001b[34m\u001b[1mtrain: \u001b[0mWARNING ⚠️ /fab3/btech/2022/snehanshu.pal22b/SolarPanel/datasets/yolo_dataset/images/train/solarpanels_native_2__x0_6880_y0_9736_dxdy_416.tif: ignoring corrupt image/label: Label class 1 exceeds dataset class count 1. Possible class labels are 0-0\n",
      "\u001b[34m\u001b[1mtrain: \u001b[0mWARNING ⚠️ /fab3/btech/2022/snehanshu.pal22b/SolarPanel/datasets/yolo_dataset/images/train/solarpanels_native_2__x0_6975_y0_10016_dxdy_416.tif: ignoring corrupt image/label: Label class 1 exceeds dataset class count 1. Possible class labels are 0-0\n",
      "\u001b[34m\u001b[1mtrain: \u001b[0mWARNING ⚠️ /fab3/btech/2022/snehanshu.pal22b/SolarPanel/datasets/yolo_dataset/images/train/solarpanels_native_2__x0_7046_y0_9851_dxdy_416.tif: ignoring corrupt image/label: Label class 1 exceeds dataset class count 1. Possible class labels are 0-0\n",
      "\u001b[34m\u001b[1mtrain: \u001b[0mWARNING ⚠️ /fab3/btech/2022/snehanshu.pal22b/SolarPanel/datasets/yolo_dataset/images/train/solarpanels_native_2__x0_7092_y0_10244_dxdy_416.tif: ignoring corrupt image/label: Label class 1 exceeds dataset class count 1. Possible class labels are 0-0\n",
      "\u001b[34m\u001b[1mtrain: \u001b[0mWARNING ⚠️ /fab3/btech/2022/snehanshu.pal22b/SolarPanel/datasets/yolo_dataset/images/train/solarpanels_native_2__x0_778_y0_8463_dxdy_416.tif: ignoring corrupt image/label: Label class 1 exceeds dataset class count 1. Possible class labels are 0-0\n",
      "\u001b[34m\u001b[1mtrain: \u001b[0mWARNING ⚠️ /fab3/btech/2022/snehanshu.pal22b/SolarPanel/datasets/yolo_dataset/images/train/solarpanels_native_2__x0_8277_y0_3127_dxdy_416.tif: ignoring corrupt image/label: Label class 1 exceeds dataset class count 1. Possible class labels are 0-0\n",
      "\u001b[34m\u001b[1mtrain: \u001b[0mWARNING ⚠️ /fab3/btech/2022/snehanshu.pal22b/SolarPanel/datasets/yolo_dataset/images/train/solarpanels_native_2__x0_8319_y0_3069_dxdy_416.tif: ignoring corrupt image/label: Label class 1 exceeds dataset class count 1. Possible class labels are 0-0\n",
      "\u001b[34m\u001b[1mtrain: \u001b[0mWARNING ⚠️ /fab3/btech/2022/snehanshu.pal22b/SolarPanel/datasets/yolo_dataset/images/train/solarpanels_native_2__x0_8416_y0_3053_dxdy_416.tif: ignoring corrupt image/label: Label class 1 exceeds dataset class count 1. Possible class labels are 0-0\n",
      "\u001b[34m\u001b[1mtrain: \u001b[0mWARNING ⚠️ /fab3/btech/2022/snehanshu.pal22b/SolarPanel/datasets/yolo_dataset/images/train/solarpanels_native_2__x0_8446_y0_2935_dxdy_416.tif: ignoring corrupt image/label: Label class 1 exceeds dataset class count 1. Possible class labels are 0-0\n",
      "\u001b[34m\u001b[1mtrain: \u001b[0mWARNING ⚠️ /fab3/btech/2022/snehanshu.pal22b/SolarPanel/datasets/yolo_dataset/images/train/solarpanels_native_2__x0_8590_y0_2900_dxdy_416.tif: ignoring corrupt image/label: Label class 1 exceeds dataset class count 1. Possible class labels are 0-0\n",
      "\u001b[34m\u001b[1mtrain: \u001b[0mWARNING ⚠️ /fab3/btech/2022/snehanshu.pal22b/SolarPanel/datasets/yolo_dataset/images/train/solarpanels_native_2__x0_9261_y0_2834_dxdy_416.tif: ignoring corrupt image/label: Label class 1 exceeds dataset class count 1. Possible class labels are 0-0\n",
      "\u001b[34m\u001b[1mtrain: \u001b[0mWARNING ⚠️ /fab3/btech/2022/snehanshu.pal22b/SolarPanel/datasets/yolo_dataset/images/train/solarpanels_native_2__x0_9336_y0_2920_dxdy_416.tif: ignoring corrupt image/label: Label class 1 exceeds dataset class count 1. Possible class labels are 0-0\n",
      "\u001b[34m\u001b[1mtrain: \u001b[0mWARNING ⚠️ /fab3/btech/2022/snehanshu.pal22b/SolarPanel/datasets/yolo_dataset/images/train/solarpanels_native_2__x0_9358_y0_3629_dxdy_416.tif: ignoring corrupt image/label: Label class 1 exceeds dataset class count 1. Possible class labels are 0-0\n",
      "\u001b[34m\u001b[1mtrain: \u001b[0mWARNING ⚠️ /fab3/btech/2022/snehanshu.pal22b/SolarPanel/datasets/yolo_dataset/images/train/solarpanels_native_2__x0_9411_y0_3697_dxdy_416.tif: ignoring corrupt image/label: Label class 1 exceeds dataset class count 1. Possible class labels are 0-0\n",
      "\u001b[34m\u001b[1mtrain: \u001b[0mWARNING ⚠️ /fab3/btech/2022/snehanshu.pal22b/SolarPanel/datasets/yolo_dataset/images/train/solarpanels_native_2__x0_9471_y0_3791_dxdy_416.tif: ignoring corrupt image/label: Label class 1 exceeds dataset class count 1. Possible class labels are 0-0\n",
      "\u001b[34m\u001b[1mtrain: \u001b[0mWARNING ⚠️ /fab3/btech/2022/snehanshu.pal22b/SolarPanel/datasets/yolo_dataset/images/train/solarpanels_native_2__x0_9515_y0_3753_dxdy_416.tif: ignoring corrupt image/label: Label class 1 exceeds dataset class count 1. Possible class labels are 0-0\n",
      "\u001b[34m\u001b[1mtrain: \u001b[0mWARNING ⚠️ /fab3/btech/2022/snehanshu.pal22b/SolarPanel/datasets/yolo_dataset/images/train/solarpanels_native_2__x0_9516_y0_2520_dxdy_416.tif: ignoring corrupt image/label: Label class 1 exceeds dataset class count 1. Possible class labels are 0-0\n",
      "\u001b[34m\u001b[1mtrain: \u001b[0mWARNING ⚠️ /fab3/btech/2022/snehanshu.pal22b/SolarPanel/datasets/yolo_dataset/images/train/solarpanels_native_2__x0_9542_y0_3448_dxdy_416.tif: ignoring corrupt image/label: Label class 1 exceeds dataset class count 1. Possible class labels are 0-0\n",
      "\u001b[34m\u001b[1mtrain: \u001b[0mWARNING ⚠️ /fab3/btech/2022/snehanshu.pal22b/SolarPanel/datasets/yolo_dataset/images/train/solarpanels_native_2__x0_9565_y0_3689_dxdy_416.tif: ignoring corrupt image/label: Label class 1 exceeds dataset class count 1. Possible class labels are 0-0\n",
      "\u001b[34m\u001b[1mtrain: \u001b[0mWARNING ⚠️ /fab3/btech/2022/snehanshu.pal22b/SolarPanel/datasets/yolo_dataset/images/train/solarpanels_native_2__x0_9601_y0_3529_dxdy_416.tif: ignoring corrupt image/label: Label class 1 exceeds dataset class count 1. Possible class labels are 0-0\n",
      "\u001b[34m\u001b[1mtrain: \u001b[0mWARNING ⚠️ /fab3/btech/2022/snehanshu.pal22b/SolarPanel/datasets/yolo_dataset/images/train/solarpanels_native_2__x0_9606_y0_2546_dxdy_416.tif: ignoring corrupt image/label: Label class 1 exceeds dataset class count 1. Possible class labels are 0-0\n",
      "\u001b[34m\u001b[1mtrain: \u001b[0mWARNING ⚠️ /fab3/btech/2022/snehanshu.pal22b/SolarPanel/datasets/yolo_dataset/images/train/solarpanels_native_2__x0_9654_y0_3385_dxdy_416.tif: ignoring corrupt image/label: Label class 1 exceeds dataset class count 1. Possible class labels are 0-0\n",
      "\u001b[34m\u001b[1mtrain: \u001b[0mWARNING ⚠️ /fab3/btech/2022/snehanshu.pal22b/SolarPanel/datasets/yolo_dataset/images/train/solarpanels_native_2__x0_9656_y0_2596_dxdy_416.tif: ignoring corrupt image/label: Label class 1 exceeds dataset class count 1. Possible class labels are 0-0\n",
      "\u001b[34m\u001b[1mtrain: \u001b[0mWARNING ⚠️ /fab3/btech/2022/snehanshu.pal22b/SolarPanel/datasets/yolo_dataset/images/train/solarpanels_native_2__x0_9740_y0_3440_dxdy_416.tif: ignoring corrupt image/label: Label class 1 exceeds dataset class count 1. Possible class labels are 0-0\n",
      "\u001b[34m\u001b[1mtrain: \u001b[0mWARNING ⚠️ /fab3/btech/2022/snehanshu.pal22b/SolarPanel/datasets/yolo_dataset/images/train/solarpanels_native_2__x0_9772_y0_2559_dxdy_416.tif: ignoring corrupt image/label: Label class 1 exceeds dataset class count 1. Possible class labels are 0-0\n",
      "\u001b[34m\u001b[1mtrain: \u001b[0mWARNING ⚠️ /fab3/btech/2022/snehanshu.pal22b/SolarPanel/datasets/yolo_dataset/images/train/solarpanels_native_3__x0_11009_y0_12793_dxdy_416.tif: ignoring corrupt image/label: Label class 2 exceeds dataset class count 1. Possible class labels are 0-0\n",
      "\u001b[34m\u001b[1mtrain: \u001b[0mWARNING ⚠️ /fab3/btech/2022/snehanshu.pal22b/SolarPanel/datasets/yolo_dataset/images/train/solarpanels_native_3__x0_11021_y0_12863_dxdy_416.tif: ignoring corrupt image/label: Label class 2 exceeds dataset class count 1. Possible class labels are 0-0\n",
      "\u001b[34m\u001b[1mtrain: \u001b[0mWARNING ⚠️ /fab3/btech/2022/snehanshu.pal22b/SolarPanel/datasets/yolo_dataset/images/train/solarpanels_native_3__x0_11023_y0_12660_dxdy_416.tif: ignoring corrupt image/label: Label class 2 exceeds dataset class count 1. Possible class labels are 0-0\n",
      "\u001b[34m\u001b[1mtrain: \u001b[0mWARNING ⚠️ /fab3/btech/2022/snehanshu.pal22b/SolarPanel/datasets/yolo_dataset/images/train/solarpanels_native_3__x0_11058_y0_12848_dxdy_416.tif: ignoring corrupt image/label: Label class 2 exceeds dataset class count 1. Possible class labels are 0-0\n",
      "\u001b[34m\u001b[1mtrain: \u001b[0mWARNING ⚠️ /fab3/btech/2022/snehanshu.pal22b/SolarPanel/datasets/yolo_dataset/images/train/solarpanels_native_3__x0_11100_y0_12917_dxdy_416.tif: ignoring corrupt image/label: Label class 2 exceeds dataset class count 1. Possible class labels are 0-0\n",
      "\u001b[34m\u001b[1mtrain: \u001b[0mWARNING ⚠️ /fab3/btech/2022/snehanshu.pal22b/SolarPanel/datasets/yolo_dataset/images/train/solarpanels_native_3__x0_11151_y0_12804_dxdy_416.tif: ignoring corrupt image/label: Label class 2 exceeds dataset class count 1. Possible class labels are 0-0\n",
      "\u001b[34m\u001b[1mtrain: \u001b[0mWARNING ⚠️ /fab3/btech/2022/snehanshu.pal22b/SolarPanel/datasets/yolo_dataset/images/train/solarpanels_native_3__x0_11159_y0_12624_dxdy_416.tif: ignoring corrupt image/label: Label class 2 exceeds dataset class count 1. Possible class labels are 0-0\n",
      "\u001b[34m\u001b[1mtrain: \u001b[0mWARNING ⚠️ /fab3/btech/2022/snehanshu.pal22b/SolarPanel/datasets/yolo_dataset/images/train/solarpanels_native_3__x0_11176_y0_12824_dxdy_416.tif: ignoring corrupt image/label: Label class 2 exceeds dataset class count 1. Possible class labels are 0-0\n",
      "\u001b[34m\u001b[1mtrain: \u001b[0mWARNING ⚠️ /fab3/btech/2022/snehanshu.pal22b/SolarPanel/datasets/yolo_dataset/images/train/solarpanels_native_3__x0_11206_y0_12820_dxdy_416.tif: ignoring corrupt image/label: Label class 2 exceeds dataset class count 1. Possible class labels are 0-0\n",
      "\u001b[34m\u001b[1mtrain: \u001b[0mWARNING ⚠️ /fab3/btech/2022/snehanshu.pal22b/SolarPanel/datasets/yolo_dataset/images/train/solarpanels_native_3__x0_4802_y0_10152_dxdy_416.tif: ignoring corrupt image/label: Label class 2 exceeds dataset class count 1. Possible class labels are 0-0\n",
      "\u001b[34m\u001b[1mtrain: \u001b[0mWARNING ⚠️ /fab3/btech/2022/snehanshu.pal22b/SolarPanel/datasets/yolo_dataset/images/train/solarpanels_native_3__x0_5909_y0_8922_dxdy_416.tif: ignoring corrupt image/label: Label class 2 exceeds dataset class count 1. Possible class labels are 0-0\n",
      "\u001b[34m\u001b[1mtrain: \u001b[0mWARNING ⚠️ /fab3/btech/2022/snehanshu.pal22b/SolarPanel/datasets/yolo_dataset/images/train/solarpanels_native_3__x0_6024_y0_8836_dxdy_416.tif: ignoring corrupt image/label: Label class 2 exceeds dataset class count 1. Possible class labels are 0-0\n",
      "\u001b[34m\u001b[1mtrain: \u001b[0mWARNING ⚠️ /fab3/btech/2022/snehanshu.pal22b/SolarPanel/datasets/yolo_dataset/images/train/solarpanels_native_3__x0_6077_y0_8945_dxdy_416.tif: ignoring corrupt image/label: Label class 2 exceeds dataset class count 1. Possible class labels are 0-0\n",
      "\u001b[34m\u001b[1mtrain: \u001b[0mWARNING ⚠️ /fab3/btech/2022/snehanshu.pal22b/SolarPanel/datasets/yolo_dataset/images/train/solarpanels_native_3__x0_6137_y0_13322_dxdy_416.tif: ignoring corrupt image/label: Label class 1 exceeds dataset class count 1. Possible class labels are 0-0\n",
      "\u001b[34m\u001b[1mtrain: \u001b[0mWARNING ⚠️ /fab3/btech/2022/snehanshu.pal22b/SolarPanel/datasets/yolo_dataset/images/train/solarpanels_native_3__x0_6200_y0_13369_dxdy_416.tif: ignoring corrupt image/label: Label class 1 exceeds dataset class count 1. Possible class labels are 0-0\n",
      "\u001b[34m\u001b[1mtrain: \u001b[0mWARNING ⚠️ /fab3/btech/2022/snehanshu.pal22b/SolarPanel/datasets/yolo_dataset/images/train/solarpanels_native_3__x0_6464_y0_13626_dxdy_416.tif: ignoring corrupt image/label: Label class 2 exceeds dataset class count 1. Possible class labels are 0-0\n",
      "\u001b[34m\u001b[1mtrain: \u001b[0mWARNING ⚠️ /fab3/btech/2022/snehanshu.pal22b/SolarPanel/datasets/yolo_dataset/images/train/solarpanels_native_3__x0_6665_y0_13763_dxdy_416.tif: ignoring corrupt image/label: Label class 2 exceeds dataset class count 1. Possible class labels are 0-0\n",
      "\u001b[34m\u001b[1mtrain: \u001b[0mWARNING ⚠️ /fab3/btech/2022/snehanshu.pal22b/SolarPanel/datasets/yolo_dataset/images/train/solarpanels_native_3__x0_6737_y0_13757_dxdy_416.tif: ignoring corrupt image/label: Label class 2 exceeds dataset class count 1. Possible class labels are 0-0\n",
      "\u001b[34m\u001b[1mtrain: \u001b[0mWARNING ⚠️ /fab3/btech/2022/snehanshu.pal22b/SolarPanel/datasets/yolo_dataset/images/train/solarpanels_native_3__x0_8537_y0_12985_dxdy_416.tif: ignoring corrupt image/label: Label class 2 exceeds dataset class count 1. Possible class labels are 0-0\n",
      "\u001b[34m\u001b[1mtrain: \u001b[0mWARNING ⚠️ /fab3/btech/2022/snehanshu.pal22b/SolarPanel/datasets/yolo_dataset/images/train/solarpanels_native_3__x0_8569_y0_12933_dxdy_416.tif: ignoring corrupt image/label: Label class 2 exceeds dataset class count 1. Possible class labels are 0-0\n",
      "\u001b[34m\u001b[1mtrain: \u001b[0mWARNING ⚠️ /fab3/btech/2022/snehanshu.pal22b/SolarPanel/datasets/yolo_dataset/images/train/solarpanels_native_3__x0_8621_y0_12900_dxdy_416.tif: ignoring corrupt image/label: Label class 2 exceeds dataset class count 1. Possible class labels are 0-0\n",
      "\u001b[34m\u001b[1mtrain: \u001b[0mWARNING ⚠️ /fab3/btech/2022/snehanshu.pal22b/SolarPanel/datasets/yolo_dataset/images/train/solarpanels_native_3__x0_8668_y0_12912_dxdy_416.tif: ignoring corrupt image/label: Label class 2 exceeds dataset class count 1. Possible class labels are 0-0\n",
      "\u001b[34m\u001b[1mtrain: \u001b[0mWARNING ⚠️ /fab3/btech/2022/snehanshu.pal22b/SolarPanel/datasets/yolo_dataset/images/train/solarpanels_native_3__x0_9161_y0_12925_dxdy_416.tif: ignoring corrupt image/label: Label class 2 exceeds dataset class count 1. Possible class labels are 0-0\n",
      "\u001b[34m\u001b[1mtrain: \u001b[0mWARNING ⚠️ /fab3/btech/2022/snehanshu.pal22b/SolarPanel/datasets/yolo_dataset/images/train/solarpanels_native_3__x0_9176_y0_14769_dxdy_416.tif: ignoring corrupt image/label: Label class 2 exceeds dataset class count 1. Possible class labels are 0-0\n",
      "\u001b[34m\u001b[1mtrain: \u001b[0mWARNING ⚠️ /fab3/btech/2022/snehanshu.pal22b/SolarPanel/datasets/yolo_dataset/images/train/solarpanels_native_3__x0_9234_y0_14558_dxdy_416.tif: ignoring corrupt image/label: Label class 2 exceeds dataset class count 1. Possible class labels are 0-0\n",
      "\u001b[34m\u001b[1mtrain: \u001b[0mWARNING ⚠️ /fab3/btech/2022/snehanshu.pal22b/SolarPanel/datasets/yolo_dataset/images/train/solarpanels_native_3__x0_9236_y0_12775_dxdy_416.tif: ignoring corrupt image/label: Label class 2 exceeds dataset class count 1. Possible class labels are 0-0\n",
      "\u001b[34m\u001b[1mtrain: \u001b[0mWARNING ⚠️ /fab3/btech/2022/snehanshu.pal22b/SolarPanel/datasets/yolo_dataset/images/train/solarpanels_native_3__x0_9282_y0_13052_dxdy_416.tif: ignoring corrupt image/label: Label class 2 exceeds dataset class count 1. Possible class labels are 0-0\n",
      "\u001b[34m\u001b[1mtrain: \u001b[0mWARNING ⚠️ /fab3/btech/2022/snehanshu.pal22b/SolarPanel/datasets/yolo_dataset/images/train/solarpanels_native_3__x0_9322_y0_9896_dxdy_416.tif: ignoring corrupt image/label: Label class 2 exceeds dataset class count 1. Possible class labels are 0-0\n",
      "\u001b[34m\u001b[1mtrain: \u001b[0mWARNING ⚠️ /fab3/btech/2022/snehanshu.pal22b/SolarPanel/datasets/yolo_dataset/images/train/solarpanels_native_3__x0_9386_y0_14766_dxdy_416.tif: ignoring corrupt image/label: Label class 2 exceeds dataset class count 1. Possible class labels are 0-0\n"
     ]
    },
    {
     "name": "stderr",
     "output_type": "stream",
     "text": [
      "\n",
      "\u001b[34m\u001b[1mval: \u001b[0mScanning /fab3/btech/2022/snehanshu.pal22b/SolarPanel/datasets/yolo_dataset/labels/val.cache... 204 images, 0 backgrounds, 21 corrupt: 100%|██████████| 204/204 [00:00<?, ?it/s]"
     ]
    },
    {
     "name": "stdout",
     "output_type": "stream",
     "text": [
      "\u001b[34m\u001b[1mval: \u001b[0mWARNING ⚠️ /fab3/btech/2022/snehanshu.pal22b/SolarPanel/datasets/yolo_dataset/images/val/solarpanels_native_1__x0_1483_y0_10330_dxdy_416.tif: ignoring corrupt image/label: Label class 2 exceeds dataset class count 1. Possible class labels are 0-0\n",
      "\u001b[34m\u001b[1mval: \u001b[0mWARNING ⚠️ /fab3/btech/2022/snehanshu.pal22b/SolarPanel/datasets/yolo_dataset/images/val/solarpanels_native_1__x0_2309_y0_8071_dxdy_416.tif: ignoring corrupt image/label: Label class 2 exceeds dataset class count 1. Possible class labels are 0-0\n",
      "\u001b[34m\u001b[1mval: \u001b[0mWARNING ⚠️ /fab3/btech/2022/snehanshu.pal22b/SolarPanel/datasets/yolo_dataset/images/val/solarpanels_native_1__x0_8109_y0_8880_dxdy_416.tif: ignoring corrupt image/label: Label class 2 exceeds dataset class count 1. Possible class labels are 0-0\n",
      "\u001b[34m\u001b[1mval: \u001b[0mWARNING ⚠️ /fab3/btech/2022/snehanshu.pal22b/SolarPanel/datasets/yolo_dataset/images/val/solarpanels_native_1__x0_8239_y0_7742_dxdy_416.tif: ignoring corrupt image/label: Label class 2 exceeds dataset class count 1. Possible class labels are 0-0\n",
      "\u001b[34m\u001b[1mval: \u001b[0mWARNING ⚠️ /fab3/btech/2022/snehanshu.pal22b/SolarPanel/datasets/yolo_dataset/images/val/solarpanels_native_1__x0_8326_y0_8594_dxdy_416.tif: ignoring corrupt image/label: Label class 2 exceeds dataset class count 1. Possible class labels are 0-0\n",
      "\u001b[34m\u001b[1mval: \u001b[0mWARNING ⚠️ /fab3/btech/2022/snehanshu.pal22b/SolarPanel/datasets/yolo_dataset/images/val/solarpanels_native_1__x0_8350_y0_8860_dxdy_416.tif: ignoring corrupt image/label: Label class 2 exceeds dataset class count 1. Possible class labels are 0-0\n",
      "\u001b[34m\u001b[1mval: \u001b[0mWARNING ⚠️ /fab3/btech/2022/snehanshu.pal22b/SolarPanel/datasets/yolo_dataset/images/val/solarpanels_native_1__x0_9772_y0_10639_dxdy_416.tif: ignoring corrupt image/label: Label class 2 exceeds dataset class count 1. Possible class labels are 0-0\n",
      "\u001b[34m\u001b[1mval: \u001b[0mWARNING ⚠️ /fab3/btech/2022/snehanshu.pal22b/SolarPanel/datasets/yolo_dataset/images/val/solarpanels_native_2__x0_14813_y0_14131_dxdy_416.tif: ignoring corrupt image/label: Label class 1 exceeds dataset class count 1. Possible class labels are 0-0\n",
      "\u001b[34m\u001b[1mval: \u001b[0mWARNING ⚠️ /fab3/btech/2022/snehanshu.pal22b/SolarPanel/datasets/yolo_dataset/images/val/solarpanels_native_2__x0_1728_y0_9648_dxdy_416.tif: ignoring corrupt image/label: Label class 1 exceeds dataset class count 1. Possible class labels are 0-0\n",
      "\u001b[34m\u001b[1mval: \u001b[0mWARNING ⚠️ /fab3/btech/2022/snehanshu.pal22b/SolarPanel/datasets/yolo_dataset/images/val/solarpanels_native_2__x0_5006_y0_5790_dxdy_416.tif: ignoring corrupt image/label: Label class 2 exceeds dataset class count 1. Possible class labels are 0-0\n",
      "\u001b[34m\u001b[1mval: \u001b[0mWARNING ⚠️ /fab3/btech/2022/snehanshu.pal22b/SolarPanel/datasets/yolo_dataset/images/val/solarpanels_native_2__x0_5817_y0_5587_dxdy_416.tif: ignoring corrupt image/label: Label class 1 exceeds dataset class count 1. Possible class labels are 0-0\n",
      "\u001b[34m\u001b[1mval: \u001b[0mWARNING ⚠️ /fab3/btech/2022/snehanshu.pal22b/SolarPanel/datasets/yolo_dataset/images/val/solarpanels_native_2__x0_650_y0_8551_dxdy_416.tif: ignoring corrupt image/label: Label class 1 exceeds dataset class count 1. Possible class labels are 0-0\n",
      "\u001b[34m\u001b[1mval: \u001b[0mWARNING ⚠️ /fab3/btech/2022/snehanshu.pal22b/SolarPanel/datasets/yolo_dataset/images/val/solarpanels_native_2__x0_7062_y0_9845_dxdy_416.tif: ignoring corrupt image/label: Label class 1 exceeds dataset class count 1. Possible class labels are 0-0\n",
      "\u001b[34m\u001b[1mval: \u001b[0mWARNING ⚠️ /fab3/btech/2022/snehanshu.pal22b/SolarPanel/datasets/yolo_dataset/images/val/solarpanels_native_2__x0_7210_y0_10328_dxdy_416.tif: ignoring corrupt image/label: Label class 1 exceeds dataset class count 1. Possible class labels are 0-0\n",
      "\u001b[34m\u001b[1mval: \u001b[0mWARNING ⚠️ /fab3/btech/2022/snehanshu.pal22b/SolarPanel/datasets/yolo_dataset/images/val/solarpanels_native_2__x0_9488_y0_3083_dxdy_416.tif: ignoring corrupt image/label: Label class 1 exceeds dataset class count 1. Possible class labels are 0-0\n",
      "\u001b[34m\u001b[1mval: \u001b[0mWARNING ⚠️ /fab3/btech/2022/snehanshu.pal22b/SolarPanel/datasets/yolo_dataset/images/val/solarpanels_native_3__x0_6129_y0_8840_dxdy_416.tif: ignoring corrupt image/label: Label class 2 exceeds dataset class count 1. Possible class labels are 0-0\n",
      "\u001b[34m\u001b[1mval: \u001b[0mWARNING ⚠️ /fab3/btech/2022/snehanshu.pal22b/SolarPanel/datasets/yolo_dataset/images/val/solarpanels_native_3__x0_6165_y0_13495_dxdy_416.tif: ignoring corrupt image/label: Label class 1 exceeds dataset class count 1. Possible class labels are 0-0\n",
      "\u001b[34m\u001b[1mval: \u001b[0mWARNING ⚠️ /fab3/btech/2022/snehanshu.pal22b/SolarPanel/datasets/yolo_dataset/images/val/solarpanels_native_3__x0_8017_y0_6518_dxdy_416.tif: ignoring corrupt image/label: Label class 2 exceeds dataset class count 1. Possible class labels are 0-0\n",
      "\u001b[34m\u001b[1mval: \u001b[0mWARNING ⚠️ /fab3/btech/2022/snehanshu.pal22b/SolarPanel/datasets/yolo_dataset/images/val/solarpanels_native_3__x0_8668_y0_12898_dxdy_416.tif: ignoring corrupt image/label: Label class 2 exceeds dataset class count 1. Possible class labels are 0-0\n",
      "\u001b[34m\u001b[1mval: \u001b[0mWARNING ⚠️ /fab3/btech/2022/snehanshu.pal22b/SolarPanel/datasets/yolo_dataset/images/val/solarpanels_native_3__x0_9071_y0_14618_dxdy_416.tif: ignoring corrupt image/label: Label class 2 exceeds dataset class count 1. Possible class labels are 0-0\n",
      "\u001b[34m\u001b[1mval: \u001b[0mWARNING ⚠️ /fab3/btech/2022/snehanshu.pal22b/SolarPanel/datasets/yolo_dataset/images/val/solarpanels_native_3__x0_9224_y0_14720_dxdy_416.tif: ignoring corrupt image/label: Label class 2 exceeds dataset class count 1. Possible class labels are 0-0\n"
     ]
    },
    {
     "name": "stderr",
     "output_type": "stream",
     "text": [
      "\n"
     ]
    },
    {
     "name": "stdout",
     "output_type": "stream",
     "text": [
      "Plotting labels to runs/detect/train9/labels.jpg... \n",
      "\u001b[34m\u001b[1moptimizer:\u001b[0m 'optimizer=auto' found, ignoring 'lr0=0.01' and 'momentum=0.937' and determining best 'optimizer', 'lr0' and 'momentum' automatically... \n",
      "\u001b[34m\u001b[1moptimizer:\u001b[0m AdamW(lr=0.002, momentum=0.9) with parameter groups 57 weight(decay=0.0), 64 weight(decay=0.0005), 63 bias(decay=0.0)\n",
      "Image sizes 416 train, 416 val\n",
      "Using 8 dataloader workers\n",
      "Logging results to \u001b[1mruns/detect/train9\u001b[0m\n",
      "Starting training for 20 epochs...\n",
      "\n",
      "      Epoch    GPU_mem   box_loss   cls_loss   dfl_loss  Instances       Size\n"
     ]
    },
    {
     "name": "stderr",
     "output_type": "stream",
     "text": [
      "       1/20      1.96G        1.7      1.678      1.269        219        416: 100%|██████████| 104/104 [01:01<00:00,  1.70it/s]\n",
      "                 Class     Images  Instances      Box(P          R      mAP50  mAP50-95): 100%|██████████| 6/6 [00:09<00:00,  1.53s/it]\n"
     ]
    },
    {
     "name": "stdout",
     "output_type": "stream",
     "text": [
      "                   all        183       1936      0.326      0.663      0.281      0.159\n",
      "\n",
      "      Epoch    GPU_mem   box_loss   cls_loss   dfl_loss  Instances       Size\n"
     ]
    },
    {
     "name": "stderr",
     "output_type": "stream",
     "text": [
      "       2/20      1.99G      1.361     0.9001      1.083        127        416: 100%|██████████| 104/104 [00:54<00:00,  1.89it/s]\n",
      "                 Class     Images  Instances      Box(P          R      mAP50  mAP50-95): 100%|██████████| 6/6 [00:07<00:00,  1.23s/it]\n"
     ]
    },
    {
     "name": "stdout",
     "output_type": "stream",
     "text": [
      "                   all        183       1936      0.612      0.651      0.595      0.356\n",
      "\n",
      "      Epoch    GPU_mem   box_loss   cls_loss   dfl_loss  Instances       Size\n"
     ]
    },
    {
     "name": "stderr",
     "output_type": "stream",
     "text": [
      "       3/20      2.02G      1.346     0.8708       1.08        105        416: 100%|██████████| 104/104 [00:52<00:00,  1.98it/s]\n",
      "                 Class     Images  Instances      Box(P          R      mAP50  mAP50-95): 100%|██████████| 6/6 [00:05<00:00,  1.10it/s]\n"
     ]
    },
    {
     "name": "stdout",
     "output_type": "stream",
     "text": [
      "                   all        183       1936       0.76      0.736      0.782      0.507\n",
      "\n",
      "      Epoch    GPU_mem   box_loss   cls_loss   dfl_loss  Instances       Size\n"
     ]
    },
    {
     "name": "stderr",
     "output_type": "stream",
     "text": [
      "       4/20       2.3G       1.29     0.8286      1.056        193        416: 100%|██████████| 104/104 [00:52<00:00,  1.97it/s]\n",
      "                 Class     Images  Instances      Box(P          R      mAP50  mAP50-95): 100%|██████████| 6/6 [00:10<00:00,  1.82s/it]\n"
     ]
    },
    {
     "name": "stdout",
     "output_type": "stream",
     "text": [
      "                   all        183       1936      0.788      0.787      0.837      0.541\n",
      "\n",
      "      Epoch    GPU_mem   box_loss   cls_loss   dfl_loss  Instances       Size\n"
     ]
    },
    {
     "name": "stderr",
     "output_type": "stream",
     "text": [
      "       5/20      1.95G      1.256     0.7727      1.037        254        416: 100%|██████████| 104/104 [00:52<00:00,  1.97it/s]\n",
      "                 Class     Images  Instances      Box(P          R      mAP50  mAP50-95): 100%|██████████| 6/6 [00:07<00:00,  1.20s/it]"
     ]
    },
    {
     "name": "stdout",
     "output_type": "stream",
     "text": [
      "                   all        183       1936      0.839      0.799      0.882       0.59\n"
     ]
    },
    {
     "name": "stderr",
     "output_type": "stream",
     "text": [
      "\n"
     ]
    },
    {
     "name": "stdout",
     "output_type": "stream",
     "text": [
      "\n",
      "      Epoch    GPU_mem   box_loss   cls_loss   dfl_loss  Instances       Size\n"
     ]
    },
    {
     "name": "stderr",
     "output_type": "stream",
     "text": [
      "       6/20      2.13G      1.172     0.7013      1.018        128        416: 100%|██████████| 104/104 [00:52<00:00,  1.97it/s]\n",
      "                 Class     Images  Instances      Box(P          R      mAP50  mAP50-95): 100%|██████████| 6/6 [00:09<00:00,  1.60s/it]"
     ]
    },
    {
     "name": "stdout",
     "output_type": "stream",
     "text": [
      "                   all        183       1936      0.879      0.822      0.903      0.597\n"
     ]
    },
    {
     "name": "stderr",
     "output_type": "stream",
     "text": [
      "\n"
     ]
    },
    {
     "name": "stdout",
     "output_type": "stream",
     "text": [
      "\n",
      "      Epoch    GPU_mem   box_loss   cls_loss   dfl_loss  Instances       Size\n"
     ]
    },
    {
     "name": "stderr",
     "output_type": "stream",
     "text": [
      "       7/20      2.14G      1.151     0.6931      1.004        200        416: 100%|██████████| 104/104 [00:48<00:00,  2.13it/s]\n",
      "                 Class     Images  Instances      Box(P          R      mAP50  mAP50-95): 100%|██████████| 6/6 [00:08<00:00,  1.48s/it]"
     ]
    },
    {
     "name": "stdout",
     "output_type": "stream",
     "text": [
      "                   all        183       1936      0.823      0.807      0.865       0.59\n"
     ]
    },
    {
     "name": "stderr",
     "output_type": "stream",
     "text": [
      "\n"
     ]
    },
    {
     "name": "stdout",
     "output_type": "stream",
     "text": [
      "\n",
      "      Epoch    GPU_mem   box_loss   cls_loss   dfl_loss  Instances       Size\n"
     ]
    },
    {
     "name": "stderr",
     "output_type": "stream",
     "text": [
      "       8/20      1.98G      1.128     0.6615     0.9948        132        416: 100%|██████████| 104/104 [00:52<00:00,  1.97it/s]\n",
      "                 Class     Images  Instances      Box(P          R      mAP50  mAP50-95): 100%|██████████| 6/6 [00:05<00:00,  1.02it/s]\n"
     ]
    },
    {
     "name": "stdout",
     "output_type": "stream",
     "text": [
      "                   all        183       1936      0.853      0.856      0.906      0.613\n",
      "\n",
      "      Epoch    GPU_mem   box_loss   cls_loss   dfl_loss  Instances       Size\n"
     ]
    },
    {
     "name": "stderr",
     "output_type": "stream",
     "text": [
      "       9/20      2.06G      1.111     0.6626     0.9905        176        416: 100%|██████████| 104/104 [00:52<00:00,  1.97it/s]\n",
      "                 Class     Images  Instances      Box(P          R      mAP50  mAP50-95): 100%|██████████| 6/6 [00:08<00:00,  1.44s/it]"
     ]
    },
    {
     "name": "stdout",
     "output_type": "stream",
     "text": [
      "                   all        183       1936      0.872      0.841      0.911      0.607\n"
     ]
    },
    {
     "name": "stderr",
     "output_type": "stream",
     "text": [
      "\n"
     ]
    },
    {
     "name": "stdout",
     "output_type": "stream",
     "text": [
      "\n",
      "      Epoch    GPU_mem   box_loss   cls_loss   dfl_loss  Instances       Size\n"
     ]
    },
    {
     "name": "stderr",
     "output_type": "stream",
     "text": [
      "      10/20      2.03G      1.092     0.6442     0.9776        200        416: 100%|██████████| 104/104 [00:51<00:00,  2.01it/s]\n",
      "                 Class     Images  Instances      Box(P          R      mAP50  mAP50-95): 100%|██████████| 6/6 [00:07<00:00,  1.27s/it]"
     ]
    },
    {
     "name": "stdout",
     "output_type": "stream",
     "text": [
      "                   all        183       1936      0.886      0.842      0.909      0.639\n"
     ]
    },
    {
     "name": "stderr",
     "output_type": "stream",
     "text": [
      "\n"
     ]
    },
    {
     "name": "stdout",
     "output_type": "stream",
     "text": [
      "Closing dataloader mosaic\n",
      "\n",
      "      Epoch    GPU_mem   box_loss   cls_loss   dfl_loss  Instances       Size\n"
     ]
    },
    {
     "name": "stderr",
     "output_type": "stream",
     "text": [
      "      11/20      1.91G      1.031     0.6112     0.9797        167        416:  99%|█████████▉| 103/104 [00:55<00:00,  2.35it/s]"
     ]
    }
   ],
   "source": [
    "model = YOLO(\"yolov8s.pt\")  # Using YOLOv8 small model\n",
    "model.train(data=\"yolo_dataset/data.yaml\", epochs=20, imgsz=416, device=\"5\")  # Training on GPU 0\n"
   ]
  }
 ],
 "metadata": {
  "kernelspec": {
   "display_name": "iitgn",
   "language": "python",
   "name": "python3"
  },
  "language_info": {
   "codemirror_mode": {
    "name": "ipython",
    "version": 3
   },
   "file_extension": ".py",
   "mimetype": "text/x-python",
   "name": "python",
   "nbconvert_exporter": "python",
   "pygments_lexer": "ipython3",
   "version": "3.8.20"
  }
 },
 "nbformat": 4,
 "nbformat_minor": 2
}
